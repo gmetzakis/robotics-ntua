{
 "cells": [
  {
   "cell_type": "code",
   "execution_count": 1,
   "metadata": {},
   "outputs": [],
   "source": [
    "import numpy as np\n",
    "import sympy as sym\n",
    "from sympy.matrices import Matrix\n",
    "from sympy import simplify, cos, sin\n",
    "from sympy import *"
   ]
  },
  {
   "cell_type": "code",
   "execution_count": 2,
   "metadata": {},
   "outputs": [],
   "source": [
    "################CALCULATION OF THE JACOBIAN MATRIX###################"
   ]
  },
  {
   "cell_type": "code",
   "execution_count": 3,
   "metadata": {},
   "outputs": [],
   "source": [
    "def Jacobian(v_str, f_list, f1_list, f2_list):\n",
    "    vars = sym.symbols(v_str)\n",
    "    f =(f_list)\n",
    "    f1 = (f1_list)\n",
    "    f2 = (f2_list)\n",
    "    #print (f)\n",
    "    J = sym.zeros(len(vars))\n",
    "    for j, s in enumerate(vars):\n",
    "        J[0,j] = sym.diff(f, s)\n",
    "        \n",
    "    for j, s in enumerate(vars):\n",
    "        J[1,j] = sym.diff(f1, s)\n",
    "        \n",
    "    for j, s in enumerate(vars):\n",
    "        J[2,j] = sym.diff(f2, s)\n",
    "  \n",
    "    return J\n"
   ]
  },
  {
   "cell_type": "code",
   "execution_count": 4,
   "metadata": {},
   "outputs": [],
   "source": [
    "#function for matrix multiplication\n",
    "def matrix_multiplication(v_str, f_list1, f_list2, f_list3, f_list4, f_list5, f_list6, f_list7):\n",
    " \n",
    "    vars = sym.symbols(v_str)\n",
    "    f1 = Matrix(f_list1)\n",
    "    f2 = Matrix(f_list2)\n",
    "    f3 = Matrix(f_list3)\n",
    "    f4 = Matrix(f_list4)\n",
    "    f5 = Matrix(f_list5)\n",
    "    f6 = Matrix(f_list6)\n",
    "    f7 = Matrix(f_list7)\n",
    "    \n",
    "    expr = f1*f2\n",
    "    expr = expr*f3\n",
    "    expr = expr*f4\n",
    "    expr = expr*f5\n",
    "    expr = expr*f6\n",
    "    expr = expr*f7\n",
    "    \n",
    "    return expr    "
   ]
  },
  {
   "cell_type": "code",
   "execution_count": 5,
   "metadata": {},
   "outputs": [],
   "source": [
    "#we set the variables that we have and the matrixes from kinematics.py\n",
    "vars = sym.symbols('q1 q2 q3 q4 q5 q6 q7 l1 l2 l3 l4 l5 theta1 theta2')\n",
    "tf0_1 = Matrix([['cos(q1)' , '-sin(q1)' , '0' , '0'],['sin(q1)' , 'cos(q1)' , '0' , '0'],['0' , '0' , '1' , 'l1'],['0' , '0' , '0' , '1']])\n",
    "tf1_2 = Matrix([['cos(q2)' , '-sin(q2)' , '0' , '0'],['0' , '0' , '1' , '0'],['-sin(q2)' , '-cos(q2)' , '0' , '0'],['0' , '0' , '0' , '1']])\n",
    "tf2_3 = Matrix([['cos(q3)' , '-sin(q3)' , '0' , '0'],['0' , '0' , '-1' , '-l2'],['sin(q3)' , 'cos(q3)' , '0' , '0'],['0' , '0' , '0' , '1']])\n",
    "tf3_4 = Matrix([['cos(q4)' , '-sin(q4)' , '0' , 'l3'],['0' , '0' , '-1' , '0'],['sin(q4)' , 'cos(q4)' , '0' , '0'],['0' , '0' , '0' , '1']])\n",
    "tf4_5 = Matrix([['cos(q5)' , '-sin(q5)' , '0' , 'l4*sin(theta1)'],['0' , '0' , '-1' , '-l4*cos(theta1)'],['sin(q5)' , 'cos(q5)' , '0' , '0'],['0' , '0' , '0' , '1']])\n",
    "tf5_6 = Matrix([['cos(q6)' , '-sin(q6)' , '0' , '0'],['0' , '0' , '-1' , '0'],['sin(q6)' , 'cos(q6)' , '0' , '0'],['0' , '0' , '0' , '1']])\n",
    "tf6_7 = Matrix([['cos(q7)' , '-sin(q7)' , '0' , 'l5*sin(theta2)'],['0' , '0' , '1' , 'l5*cos(theta2)'],['-sin(q7)' , '-cos(q7)' , '0' , '0'],['0' , '0' , '0' , '1']])"
   ]
  },
  {
   "cell_type": "code",
   "execution_count": 6,
   "metadata": {},
   "outputs": [],
   "source": [
    "A07 = matrix_multiplication('q1 q2 q3 q4 q5 q6 q7 l1 l2 l3 l4 l5 theta1 theta2', tf0_1, tf1_2, tf2_3, tf3_4, tf4_5, tf5_6, tf6_7)"
   ]
  },
  {
   "cell_type": "code",
   "execution_count": 7,
   "metadata": {
    "collapsed": true
   },
   "outputs": [
    {
     "data": {
      "text/latex": [
       "$\\displaystyle \\left[\\begin{matrix}\\left(\\left(\\left(\\left(- \\sin{\\left(q_{1} \\right)} \\sin{\\left(q_{3} \\right)} + \\cos{\\left(q_{1} \\right)} \\cos{\\left(q_{2} \\right)} \\cos{\\left(q_{3} \\right)}\\right) \\cos{\\left(q_{4} \\right)} + \\sin{\\left(q_{2} \\right)} \\sin{\\left(q_{4} \\right)} \\cos{\\left(q_{1} \\right)}\\right) \\cos{\\left(q_{5} \\right)} + \\left(\\sin{\\left(q_{1} \\right)} \\cos{\\left(q_{3} \\right)} + \\sin{\\left(q_{3} \\right)} \\cos{\\left(q_{1} \\right)} \\cos{\\left(q_{2} \\right)}\\right) \\sin{\\left(q_{5} \\right)}\\right) \\cos{\\left(q_{6} \\right)} + \\left(\\left(- \\sin{\\left(q_{1} \\right)} \\sin{\\left(q_{3} \\right)} + \\cos{\\left(q_{1} \\right)} \\cos{\\left(q_{2} \\right)} \\cos{\\left(q_{3} \\right)}\\right) \\sin{\\left(q_{4} \\right)} - \\sin{\\left(q_{2} \\right)} \\cos{\\left(q_{1} \\right)} \\cos{\\left(q_{4} \\right)}\\right) \\sin{\\left(q_{6} \\right)}\\right) \\cos{\\left(q_{7} \\right)} - \\left(\\left(\\left(- \\sin{\\left(q_{1} \\right)} \\sin{\\left(q_{3} \\right)} + \\cos{\\left(q_{1} \\right)} \\cos{\\left(q_{2} \\right)} \\cos{\\left(q_{3} \\right)}\\right) \\cos{\\left(q_{4} \\right)} + \\sin{\\left(q_{2} \\right)} \\sin{\\left(q_{4} \\right)} \\cos{\\left(q_{1} \\right)}\\right) \\sin{\\left(q_{5} \\right)} - \\left(\\sin{\\left(q_{1} \\right)} \\cos{\\left(q_{3} \\right)} + \\sin{\\left(q_{3} \\right)} \\cos{\\left(q_{1} \\right)} \\cos{\\left(q_{2} \\right)}\\right) \\cos{\\left(q_{5} \\right)}\\right) \\sin{\\left(q_{7} \\right)} & - \\left(\\left(\\left(\\left(- \\sin{\\left(q_{1} \\right)} \\sin{\\left(q_{3} \\right)} + \\cos{\\left(q_{1} \\right)} \\cos{\\left(q_{2} \\right)} \\cos{\\left(q_{3} \\right)}\\right) \\cos{\\left(q_{4} \\right)} + \\sin{\\left(q_{2} \\right)} \\sin{\\left(q_{4} \\right)} \\cos{\\left(q_{1} \\right)}\\right) \\cos{\\left(q_{5} \\right)} + \\left(\\sin{\\left(q_{1} \\right)} \\cos{\\left(q_{3} \\right)} + \\sin{\\left(q_{3} \\right)} \\cos{\\left(q_{1} \\right)} \\cos{\\left(q_{2} \\right)}\\right) \\sin{\\left(q_{5} \\right)}\\right) \\cos{\\left(q_{6} \\right)} + \\left(\\left(- \\sin{\\left(q_{1} \\right)} \\sin{\\left(q_{3} \\right)} + \\cos{\\left(q_{1} \\right)} \\cos{\\left(q_{2} \\right)} \\cos{\\left(q_{3} \\right)}\\right) \\sin{\\left(q_{4} \\right)} - \\sin{\\left(q_{2} \\right)} \\cos{\\left(q_{1} \\right)} \\cos{\\left(q_{4} \\right)}\\right) \\sin{\\left(q_{6} \\right)}\\right) \\sin{\\left(q_{7} \\right)} - \\left(\\left(\\left(- \\sin{\\left(q_{1} \\right)} \\sin{\\left(q_{3} \\right)} + \\cos{\\left(q_{1} \\right)} \\cos{\\left(q_{2} \\right)} \\cos{\\left(q_{3} \\right)}\\right) \\cos{\\left(q_{4} \\right)} + \\sin{\\left(q_{2} \\right)} \\sin{\\left(q_{4} \\right)} \\cos{\\left(q_{1} \\right)}\\right) \\sin{\\left(q_{5} \\right)} - \\left(\\sin{\\left(q_{1} \\right)} \\cos{\\left(q_{3} \\right)} + \\sin{\\left(q_{3} \\right)} \\cos{\\left(q_{1} \\right)} \\cos{\\left(q_{2} \\right)}\\right) \\cos{\\left(q_{5} \\right)}\\right) \\cos{\\left(q_{7} \\right)} & - \\left(\\left(\\left(- \\sin{\\left(q_{1} \\right)} \\sin{\\left(q_{3} \\right)} + \\cos{\\left(q_{1} \\right)} \\cos{\\left(q_{2} \\right)} \\cos{\\left(q_{3} \\right)}\\right) \\cos{\\left(q_{4} \\right)} + \\sin{\\left(q_{2} \\right)} \\sin{\\left(q_{4} \\right)} \\cos{\\left(q_{1} \\right)}\\right) \\cos{\\left(q_{5} \\right)} + \\left(\\sin{\\left(q_{1} \\right)} \\cos{\\left(q_{3} \\right)} + \\sin{\\left(q_{3} \\right)} \\cos{\\left(q_{1} \\right)} \\cos{\\left(q_{2} \\right)}\\right) \\sin{\\left(q_{5} \\right)}\\right) \\sin{\\left(q_{6} \\right)} + \\left(\\left(- \\sin{\\left(q_{1} \\right)} \\sin{\\left(q_{3} \\right)} + \\cos{\\left(q_{1} \\right)} \\cos{\\left(q_{2} \\right)} \\cos{\\left(q_{3} \\right)}\\right) \\sin{\\left(q_{4} \\right)} - \\sin{\\left(q_{2} \\right)} \\cos{\\left(q_{1} \\right)} \\cos{\\left(q_{4} \\right)}\\right) \\cos{\\left(q_{6} \\right)} & l_{2} \\sin{\\left(q_{2} \\right)} \\cos{\\left(q_{1} \\right)} + l_{3} \\left(- \\sin{\\left(q_{1} \\right)} \\sin{\\left(q_{3} \\right)} + \\cos{\\left(q_{1} \\right)} \\cos{\\left(q_{2} \\right)} \\cos{\\left(q_{3} \\right)}\\right) - l_{4} \\left(- \\left(- \\sin{\\left(q_{1} \\right)} \\sin{\\left(q_{3} \\right)} + \\cos{\\left(q_{1} \\right)} \\cos{\\left(q_{2} \\right)} \\cos{\\left(q_{3} \\right)}\\right) \\sin{\\left(q_{4} \\right)} + \\sin{\\left(q_{2} \\right)} \\cos{\\left(q_{1} \\right)} \\cos{\\left(q_{4} \\right)}\\right) \\cos{\\left(\\theta_{1} \\right)} + l_{4} \\left(\\left(- \\sin{\\left(q_{1} \\right)} \\sin{\\left(q_{3} \\right)} + \\cos{\\left(q_{1} \\right)} \\cos{\\left(q_{2} \\right)} \\cos{\\left(q_{3} \\right)}\\right) \\cos{\\left(q_{4} \\right)} + \\sin{\\left(q_{2} \\right)} \\sin{\\left(q_{4} \\right)} \\cos{\\left(q_{1} \\right)}\\right) \\sin{\\left(\\theta_{1} \\right)} + l_{5} \\left(- \\left(\\left(\\left(- \\sin{\\left(q_{1} \\right)} \\sin{\\left(q_{3} \\right)} + \\cos{\\left(q_{1} \\right)} \\cos{\\left(q_{2} \\right)} \\cos{\\left(q_{3} \\right)}\\right) \\cos{\\left(q_{4} \\right)} + \\sin{\\left(q_{2} \\right)} \\sin{\\left(q_{4} \\right)} \\cos{\\left(q_{1} \\right)}\\right) \\cos{\\left(q_{5} \\right)} + \\left(\\sin{\\left(q_{1} \\right)} \\cos{\\left(q_{3} \\right)} + \\sin{\\left(q_{3} \\right)} \\cos{\\left(q_{1} \\right)} \\cos{\\left(q_{2} \\right)}\\right) \\sin{\\left(q_{5} \\right)}\\right) \\sin{\\left(q_{6} \\right)} + \\left(\\left(- \\sin{\\left(q_{1} \\right)} \\sin{\\left(q_{3} \\right)} + \\cos{\\left(q_{1} \\right)} \\cos{\\left(q_{2} \\right)} \\cos{\\left(q_{3} \\right)}\\right) \\sin{\\left(q_{4} \\right)} - \\sin{\\left(q_{2} \\right)} \\cos{\\left(q_{1} \\right)} \\cos{\\left(q_{4} \\right)}\\right) \\cos{\\left(q_{6} \\right)}\\right) \\cos{\\left(\\theta_{2} \\right)} + l_{5} \\left(\\left(\\left(\\left(- \\sin{\\left(q_{1} \\right)} \\sin{\\left(q_{3} \\right)} + \\cos{\\left(q_{1} \\right)} \\cos{\\left(q_{2} \\right)} \\cos{\\left(q_{3} \\right)}\\right) \\cos{\\left(q_{4} \\right)} + \\sin{\\left(q_{2} \\right)} \\sin{\\left(q_{4} \\right)} \\cos{\\left(q_{1} \\right)}\\right) \\cos{\\left(q_{5} \\right)} + \\left(\\sin{\\left(q_{1} \\right)} \\cos{\\left(q_{3} \\right)} + \\sin{\\left(q_{3} \\right)} \\cos{\\left(q_{1} \\right)} \\cos{\\left(q_{2} \\right)}\\right) \\sin{\\left(q_{5} \\right)}\\right) \\cos{\\left(q_{6} \\right)} + \\left(\\left(- \\sin{\\left(q_{1} \\right)} \\sin{\\left(q_{3} \\right)} + \\cos{\\left(q_{1} \\right)} \\cos{\\left(q_{2} \\right)} \\cos{\\left(q_{3} \\right)}\\right) \\sin{\\left(q_{4} \\right)} - \\sin{\\left(q_{2} \\right)} \\cos{\\left(q_{1} \\right)} \\cos{\\left(q_{4} \\right)}\\right) \\sin{\\left(q_{6} \\right)}\\right) \\sin{\\left(\\theta_{2} \\right)}\\\\\\left(\\left(\\left(\\left(\\sin{\\left(q_{1} \\right)} \\cos{\\left(q_{2} \\right)} \\cos{\\left(q_{3} \\right)} + \\sin{\\left(q_{3} \\right)} \\cos{\\left(q_{1} \\right)}\\right) \\cos{\\left(q_{4} \\right)} + \\sin{\\left(q_{1} \\right)} \\sin{\\left(q_{2} \\right)} \\sin{\\left(q_{4} \\right)}\\right) \\cos{\\left(q_{5} \\right)} + \\left(\\sin{\\left(q_{1} \\right)} \\sin{\\left(q_{3} \\right)} \\cos{\\left(q_{2} \\right)} - \\cos{\\left(q_{1} \\right)} \\cos{\\left(q_{3} \\right)}\\right) \\sin{\\left(q_{5} \\right)}\\right) \\cos{\\left(q_{6} \\right)} + \\left(\\left(\\sin{\\left(q_{1} \\right)} \\cos{\\left(q_{2} \\right)} \\cos{\\left(q_{3} \\right)} + \\sin{\\left(q_{3} \\right)} \\cos{\\left(q_{1} \\right)}\\right) \\sin{\\left(q_{4} \\right)} - \\sin{\\left(q_{1} \\right)} \\sin{\\left(q_{2} \\right)} \\cos{\\left(q_{4} \\right)}\\right) \\sin{\\left(q_{6} \\right)}\\right) \\cos{\\left(q_{7} \\right)} - \\left(\\left(\\left(\\sin{\\left(q_{1} \\right)} \\cos{\\left(q_{2} \\right)} \\cos{\\left(q_{3} \\right)} + \\sin{\\left(q_{3} \\right)} \\cos{\\left(q_{1} \\right)}\\right) \\cos{\\left(q_{4} \\right)} + \\sin{\\left(q_{1} \\right)} \\sin{\\left(q_{2} \\right)} \\sin{\\left(q_{4} \\right)}\\right) \\sin{\\left(q_{5} \\right)} - \\left(\\sin{\\left(q_{1} \\right)} \\sin{\\left(q_{3} \\right)} \\cos{\\left(q_{2} \\right)} - \\cos{\\left(q_{1} \\right)} \\cos{\\left(q_{3} \\right)}\\right) \\cos{\\left(q_{5} \\right)}\\right) \\sin{\\left(q_{7} \\right)} & - \\left(\\left(\\left(\\left(\\sin{\\left(q_{1} \\right)} \\cos{\\left(q_{2} \\right)} \\cos{\\left(q_{3} \\right)} + \\sin{\\left(q_{3} \\right)} \\cos{\\left(q_{1} \\right)}\\right) \\cos{\\left(q_{4} \\right)} + \\sin{\\left(q_{1} \\right)} \\sin{\\left(q_{2} \\right)} \\sin{\\left(q_{4} \\right)}\\right) \\cos{\\left(q_{5} \\right)} + \\left(\\sin{\\left(q_{1} \\right)} \\sin{\\left(q_{3} \\right)} \\cos{\\left(q_{2} \\right)} - \\cos{\\left(q_{1} \\right)} \\cos{\\left(q_{3} \\right)}\\right) \\sin{\\left(q_{5} \\right)}\\right) \\cos{\\left(q_{6} \\right)} + \\left(\\left(\\sin{\\left(q_{1} \\right)} \\cos{\\left(q_{2} \\right)} \\cos{\\left(q_{3} \\right)} + \\sin{\\left(q_{3} \\right)} \\cos{\\left(q_{1} \\right)}\\right) \\sin{\\left(q_{4} \\right)} - \\sin{\\left(q_{1} \\right)} \\sin{\\left(q_{2} \\right)} \\cos{\\left(q_{4} \\right)}\\right) \\sin{\\left(q_{6} \\right)}\\right) \\sin{\\left(q_{7} \\right)} - \\left(\\left(\\left(\\sin{\\left(q_{1} \\right)} \\cos{\\left(q_{2} \\right)} \\cos{\\left(q_{3} \\right)} + \\sin{\\left(q_{3} \\right)} \\cos{\\left(q_{1} \\right)}\\right) \\cos{\\left(q_{4} \\right)} + \\sin{\\left(q_{1} \\right)} \\sin{\\left(q_{2} \\right)} \\sin{\\left(q_{4} \\right)}\\right) \\sin{\\left(q_{5} \\right)} - \\left(\\sin{\\left(q_{1} \\right)} \\sin{\\left(q_{3} \\right)} \\cos{\\left(q_{2} \\right)} - \\cos{\\left(q_{1} \\right)} \\cos{\\left(q_{3} \\right)}\\right) \\cos{\\left(q_{5} \\right)}\\right) \\cos{\\left(q_{7} \\right)} & - \\left(\\left(\\left(\\sin{\\left(q_{1} \\right)} \\cos{\\left(q_{2} \\right)} \\cos{\\left(q_{3} \\right)} + \\sin{\\left(q_{3} \\right)} \\cos{\\left(q_{1} \\right)}\\right) \\cos{\\left(q_{4} \\right)} + \\sin{\\left(q_{1} \\right)} \\sin{\\left(q_{2} \\right)} \\sin{\\left(q_{4} \\right)}\\right) \\cos{\\left(q_{5} \\right)} + \\left(\\sin{\\left(q_{1} \\right)} \\sin{\\left(q_{3} \\right)} \\cos{\\left(q_{2} \\right)} - \\cos{\\left(q_{1} \\right)} \\cos{\\left(q_{3} \\right)}\\right) \\sin{\\left(q_{5} \\right)}\\right) \\sin{\\left(q_{6} \\right)} + \\left(\\left(\\sin{\\left(q_{1} \\right)} \\cos{\\left(q_{2} \\right)} \\cos{\\left(q_{3} \\right)} + \\sin{\\left(q_{3} \\right)} \\cos{\\left(q_{1} \\right)}\\right) \\sin{\\left(q_{4} \\right)} - \\sin{\\left(q_{1} \\right)} \\sin{\\left(q_{2} \\right)} \\cos{\\left(q_{4} \\right)}\\right) \\cos{\\left(q_{6} \\right)} & l_{2} \\sin{\\left(q_{1} \\right)} \\sin{\\left(q_{2} \\right)} + l_{3} \\left(\\sin{\\left(q_{1} \\right)} \\cos{\\left(q_{2} \\right)} \\cos{\\left(q_{3} \\right)} + \\sin{\\left(q_{3} \\right)} \\cos{\\left(q_{1} \\right)}\\right) - l_{4} \\left(- \\left(\\sin{\\left(q_{1} \\right)} \\cos{\\left(q_{2} \\right)} \\cos{\\left(q_{3} \\right)} + \\sin{\\left(q_{3} \\right)} \\cos{\\left(q_{1} \\right)}\\right) \\sin{\\left(q_{4} \\right)} + \\sin{\\left(q_{1} \\right)} \\sin{\\left(q_{2} \\right)} \\cos{\\left(q_{4} \\right)}\\right) \\cos{\\left(\\theta_{1} \\right)} + l_{4} \\left(\\left(\\sin{\\left(q_{1} \\right)} \\cos{\\left(q_{2} \\right)} \\cos{\\left(q_{3} \\right)} + \\sin{\\left(q_{3} \\right)} \\cos{\\left(q_{1} \\right)}\\right) \\cos{\\left(q_{4} \\right)} + \\sin{\\left(q_{1} \\right)} \\sin{\\left(q_{2} \\right)} \\sin{\\left(q_{4} \\right)}\\right) \\sin{\\left(\\theta_{1} \\right)} + l_{5} \\left(- \\left(\\left(\\left(\\sin{\\left(q_{1} \\right)} \\cos{\\left(q_{2} \\right)} \\cos{\\left(q_{3} \\right)} + \\sin{\\left(q_{3} \\right)} \\cos{\\left(q_{1} \\right)}\\right) \\cos{\\left(q_{4} \\right)} + \\sin{\\left(q_{1} \\right)} \\sin{\\left(q_{2} \\right)} \\sin{\\left(q_{4} \\right)}\\right) \\cos{\\left(q_{5} \\right)} + \\left(\\sin{\\left(q_{1} \\right)} \\sin{\\left(q_{3} \\right)} \\cos{\\left(q_{2} \\right)} - \\cos{\\left(q_{1} \\right)} \\cos{\\left(q_{3} \\right)}\\right) \\sin{\\left(q_{5} \\right)}\\right) \\sin{\\left(q_{6} \\right)} + \\left(\\left(\\sin{\\left(q_{1} \\right)} \\cos{\\left(q_{2} \\right)} \\cos{\\left(q_{3} \\right)} + \\sin{\\left(q_{3} \\right)} \\cos{\\left(q_{1} \\right)}\\right) \\sin{\\left(q_{4} \\right)} - \\sin{\\left(q_{1} \\right)} \\sin{\\left(q_{2} \\right)} \\cos{\\left(q_{4} \\right)}\\right) \\cos{\\left(q_{6} \\right)}\\right) \\cos{\\left(\\theta_{2} \\right)} + l_{5} \\left(\\left(\\left(\\left(\\sin{\\left(q_{1} \\right)} \\cos{\\left(q_{2} \\right)} \\cos{\\left(q_{3} \\right)} + \\sin{\\left(q_{3} \\right)} \\cos{\\left(q_{1} \\right)}\\right) \\cos{\\left(q_{4} \\right)} + \\sin{\\left(q_{1} \\right)} \\sin{\\left(q_{2} \\right)} \\sin{\\left(q_{4} \\right)}\\right) \\cos{\\left(q_{5} \\right)} + \\left(\\sin{\\left(q_{1} \\right)} \\sin{\\left(q_{3} \\right)} \\cos{\\left(q_{2} \\right)} - \\cos{\\left(q_{1} \\right)} \\cos{\\left(q_{3} \\right)}\\right) \\sin{\\left(q_{5} \\right)}\\right) \\cos{\\left(q_{6} \\right)} + \\left(\\left(\\sin{\\left(q_{1} \\right)} \\cos{\\left(q_{2} \\right)} \\cos{\\left(q_{3} \\right)} + \\sin{\\left(q_{3} \\right)} \\cos{\\left(q_{1} \\right)}\\right) \\sin{\\left(q_{4} \\right)} - \\sin{\\left(q_{1} \\right)} \\sin{\\left(q_{2} \\right)} \\cos{\\left(q_{4} \\right)}\\right) \\sin{\\left(q_{6} \\right)}\\right) \\sin{\\left(\\theta_{2} \\right)}\\\\\\left(\\left(\\left(- \\sin{\\left(q_{2} \\right)} \\cos{\\left(q_{3} \\right)} \\cos{\\left(q_{4} \\right)} + \\sin{\\left(q_{4} \\right)} \\cos{\\left(q_{2} \\right)}\\right) \\cos{\\left(q_{5} \\right)} - \\sin{\\left(q_{2} \\right)} \\sin{\\left(q_{3} \\right)} \\sin{\\left(q_{5} \\right)}\\right) \\cos{\\left(q_{6} \\right)} + \\left(- \\sin{\\left(q_{2} \\right)} \\sin{\\left(q_{4} \\right)} \\cos{\\left(q_{3} \\right)} - \\cos{\\left(q_{2} \\right)} \\cos{\\left(q_{4} \\right)}\\right) \\sin{\\left(q_{6} \\right)}\\right) \\cos{\\left(q_{7} \\right)} - \\left(\\left(- \\sin{\\left(q_{2} \\right)} \\cos{\\left(q_{3} \\right)} \\cos{\\left(q_{4} \\right)} + \\sin{\\left(q_{4} \\right)} \\cos{\\left(q_{2} \\right)}\\right) \\sin{\\left(q_{5} \\right)} + \\sin{\\left(q_{2} \\right)} \\sin{\\left(q_{3} \\right)} \\cos{\\left(q_{5} \\right)}\\right) \\sin{\\left(q_{7} \\right)} & - \\left(\\left(\\left(- \\sin{\\left(q_{2} \\right)} \\cos{\\left(q_{3} \\right)} \\cos{\\left(q_{4} \\right)} + \\sin{\\left(q_{4} \\right)} \\cos{\\left(q_{2} \\right)}\\right) \\cos{\\left(q_{5} \\right)} - \\sin{\\left(q_{2} \\right)} \\sin{\\left(q_{3} \\right)} \\sin{\\left(q_{5} \\right)}\\right) \\cos{\\left(q_{6} \\right)} + \\left(- \\sin{\\left(q_{2} \\right)} \\sin{\\left(q_{4} \\right)} \\cos{\\left(q_{3} \\right)} - \\cos{\\left(q_{2} \\right)} \\cos{\\left(q_{4} \\right)}\\right) \\sin{\\left(q_{6} \\right)}\\right) \\sin{\\left(q_{7} \\right)} - \\left(\\left(- \\sin{\\left(q_{2} \\right)} \\cos{\\left(q_{3} \\right)} \\cos{\\left(q_{4} \\right)} + \\sin{\\left(q_{4} \\right)} \\cos{\\left(q_{2} \\right)}\\right) \\sin{\\left(q_{5} \\right)} + \\sin{\\left(q_{2} \\right)} \\sin{\\left(q_{3} \\right)} \\cos{\\left(q_{5} \\right)}\\right) \\cos{\\left(q_{7} \\right)} & - \\left(\\left(- \\sin{\\left(q_{2} \\right)} \\cos{\\left(q_{3} \\right)} \\cos{\\left(q_{4} \\right)} + \\sin{\\left(q_{4} \\right)} \\cos{\\left(q_{2} \\right)}\\right) \\cos{\\left(q_{5} \\right)} - \\sin{\\left(q_{2} \\right)} \\sin{\\left(q_{3} \\right)} \\sin{\\left(q_{5} \\right)}\\right) \\sin{\\left(q_{6} \\right)} + \\left(- \\sin{\\left(q_{2} \\right)} \\sin{\\left(q_{4} \\right)} \\cos{\\left(q_{3} \\right)} - \\cos{\\left(q_{2} \\right)} \\cos{\\left(q_{4} \\right)}\\right) \\cos{\\left(q_{6} \\right)} & l_{1} + l_{2} \\cos{\\left(q_{2} \\right)} - l_{3} \\sin{\\left(q_{2} \\right)} \\cos{\\left(q_{3} \\right)} - l_{4} \\left(\\sin{\\left(q_{2} \\right)} \\sin{\\left(q_{4} \\right)} \\cos{\\left(q_{3} \\right)} + \\cos{\\left(q_{2} \\right)} \\cos{\\left(q_{4} \\right)}\\right) \\cos{\\left(\\theta_{1} \\right)} + l_{4} \\left(- \\sin{\\left(q_{2} \\right)} \\cos{\\left(q_{3} \\right)} \\cos{\\left(q_{4} \\right)} + \\sin{\\left(q_{4} \\right)} \\cos{\\left(q_{2} \\right)}\\right) \\sin{\\left(\\theta_{1} \\right)} + l_{5} \\left(- \\left(\\left(- \\sin{\\left(q_{2} \\right)} \\cos{\\left(q_{3} \\right)} \\cos{\\left(q_{4} \\right)} + \\sin{\\left(q_{4} \\right)} \\cos{\\left(q_{2} \\right)}\\right) \\cos{\\left(q_{5} \\right)} - \\sin{\\left(q_{2} \\right)} \\sin{\\left(q_{3} \\right)} \\sin{\\left(q_{5} \\right)}\\right) \\sin{\\left(q_{6} \\right)} + \\left(- \\sin{\\left(q_{2} \\right)} \\sin{\\left(q_{4} \\right)} \\cos{\\left(q_{3} \\right)} - \\cos{\\left(q_{2} \\right)} \\cos{\\left(q_{4} \\right)}\\right) \\cos{\\left(q_{6} \\right)}\\right) \\cos{\\left(\\theta_{2} \\right)} + l_{5} \\left(\\left(\\left(- \\sin{\\left(q_{2} \\right)} \\cos{\\left(q_{3} \\right)} \\cos{\\left(q_{4} \\right)} + \\sin{\\left(q_{4} \\right)} \\cos{\\left(q_{2} \\right)}\\right) \\cos{\\left(q_{5} \\right)} - \\sin{\\left(q_{2} \\right)} \\sin{\\left(q_{3} \\right)} \\sin{\\left(q_{5} \\right)}\\right) \\cos{\\left(q_{6} \\right)} + \\left(- \\sin{\\left(q_{2} \\right)} \\sin{\\left(q_{4} \\right)} \\cos{\\left(q_{3} \\right)} - \\cos{\\left(q_{2} \\right)} \\cos{\\left(q_{4} \\right)}\\right) \\sin{\\left(q_{6} \\right)}\\right) \\sin{\\left(\\theta_{2} \\right)}\\\\0 & 0 & 0 & 1\\end{matrix}\\right]$"
      ],
      "text/plain": [
       "Matrix([\n",
       "[((((-sin(q1)*sin(q3) + cos(q1)*cos(q2)*cos(q3))*cos(q4) + sin(q2)*sin(q4)*cos(q1))*cos(q5) + (sin(q1)*cos(q3) + sin(q3)*cos(q1)*cos(q2))*sin(q5))*cos(q6) + ((-sin(q1)*sin(q3) + cos(q1)*cos(q2)*cos(q3))*sin(q4) - sin(q2)*cos(q1)*cos(q4))*sin(q6))*cos(q7) - (((-sin(q1)*sin(q3) + cos(q1)*cos(q2)*cos(q3))*cos(q4) + sin(q2)*sin(q4)*cos(q1))*sin(q5) - (sin(q1)*cos(q3) + sin(q3)*cos(q1)*cos(q2))*cos(q5))*sin(q7), -((((-sin(q1)*sin(q3) + cos(q1)*cos(q2)*cos(q3))*cos(q4) + sin(q2)*sin(q4)*cos(q1))*cos(q5) + (sin(q1)*cos(q3) + sin(q3)*cos(q1)*cos(q2))*sin(q5))*cos(q6) + ((-sin(q1)*sin(q3) + cos(q1)*cos(q2)*cos(q3))*sin(q4) - sin(q2)*cos(q1)*cos(q4))*sin(q6))*sin(q7) - (((-sin(q1)*sin(q3) + cos(q1)*cos(q2)*cos(q3))*cos(q4) + sin(q2)*sin(q4)*cos(q1))*sin(q5) - (sin(q1)*cos(q3) + sin(q3)*cos(q1)*cos(q2))*cos(q5))*cos(q7), -(((-sin(q1)*sin(q3) + cos(q1)*cos(q2)*cos(q3))*cos(q4) + sin(q2)*sin(q4)*cos(q1))*cos(q5) + (sin(q1)*cos(q3) + sin(q3)*cos(q1)*cos(q2))*sin(q5))*sin(q6) + ((-sin(q1)*sin(q3) + cos(q1)*cos(q2)*cos(q3))*sin(q4) - sin(q2)*cos(q1)*cos(q4))*cos(q6), l2*sin(q2)*cos(q1) + l3*(-sin(q1)*sin(q3) + cos(q1)*cos(q2)*cos(q3)) - l4*(-(-sin(q1)*sin(q3) + cos(q1)*cos(q2)*cos(q3))*sin(q4) + sin(q2)*cos(q1)*cos(q4))*cos(theta1) + l4*((-sin(q1)*sin(q3) + cos(q1)*cos(q2)*cos(q3))*cos(q4) + sin(q2)*sin(q4)*cos(q1))*sin(theta1) + l5*(-(((-sin(q1)*sin(q3) + cos(q1)*cos(q2)*cos(q3))*cos(q4) + sin(q2)*sin(q4)*cos(q1))*cos(q5) + (sin(q1)*cos(q3) + sin(q3)*cos(q1)*cos(q2))*sin(q5))*sin(q6) + ((-sin(q1)*sin(q3) + cos(q1)*cos(q2)*cos(q3))*sin(q4) - sin(q2)*cos(q1)*cos(q4))*cos(q6))*cos(theta2) + l5*((((-sin(q1)*sin(q3) + cos(q1)*cos(q2)*cos(q3))*cos(q4) + sin(q2)*sin(q4)*cos(q1))*cos(q5) + (sin(q1)*cos(q3) + sin(q3)*cos(q1)*cos(q2))*sin(q5))*cos(q6) + ((-sin(q1)*sin(q3) + cos(q1)*cos(q2)*cos(q3))*sin(q4) - sin(q2)*cos(q1)*cos(q4))*sin(q6))*sin(theta2)],\n",
       "[   ((((sin(q1)*cos(q2)*cos(q3) + sin(q3)*cos(q1))*cos(q4) + sin(q1)*sin(q2)*sin(q4))*cos(q5) + (sin(q1)*sin(q3)*cos(q2) - cos(q1)*cos(q3))*sin(q5))*cos(q6) + ((sin(q1)*cos(q2)*cos(q3) + sin(q3)*cos(q1))*sin(q4) - sin(q1)*sin(q2)*cos(q4))*sin(q6))*cos(q7) - (((sin(q1)*cos(q2)*cos(q3) + sin(q3)*cos(q1))*cos(q4) + sin(q1)*sin(q2)*sin(q4))*sin(q5) - (sin(q1)*sin(q3)*cos(q2) - cos(q1)*cos(q3))*cos(q5))*sin(q7),    -((((sin(q1)*cos(q2)*cos(q3) + sin(q3)*cos(q1))*cos(q4) + sin(q1)*sin(q2)*sin(q4))*cos(q5) + (sin(q1)*sin(q3)*cos(q2) - cos(q1)*cos(q3))*sin(q5))*cos(q6) + ((sin(q1)*cos(q2)*cos(q3) + sin(q3)*cos(q1))*sin(q4) - sin(q1)*sin(q2)*cos(q4))*sin(q6))*sin(q7) - (((sin(q1)*cos(q2)*cos(q3) + sin(q3)*cos(q1))*cos(q4) + sin(q1)*sin(q2)*sin(q4))*sin(q5) - (sin(q1)*sin(q3)*cos(q2) - cos(q1)*cos(q3))*cos(q5))*cos(q7),   -(((sin(q1)*cos(q2)*cos(q3) + sin(q3)*cos(q1))*cos(q4) + sin(q1)*sin(q2)*sin(q4))*cos(q5) + (sin(q1)*sin(q3)*cos(q2) - cos(q1)*cos(q3))*sin(q5))*sin(q6) + ((sin(q1)*cos(q2)*cos(q3) + sin(q3)*cos(q1))*sin(q4) - sin(q1)*sin(q2)*cos(q4))*cos(q6),        l2*sin(q1)*sin(q2) + l3*(sin(q1)*cos(q2)*cos(q3) + sin(q3)*cos(q1)) - l4*(-(sin(q1)*cos(q2)*cos(q3) + sin(q3)*cos(q1))*sin(q4) + sin(q1)*sin(q2)*cos(q4))*cos(theta1) + l4*((sin(q1)*cos(q2)*cos(q3) + sin(q3)*cos(q1))*cos(q4) + sin(q1)*sin(q2)*sin(q4))*sin(theta1) + l5*(-(((sin(q1)*cos(q2)*cos(q3) + sin(q3)*cos(q1))*cos(q4) + sin(q1)*sin(q2)*sin(q4))*cos(q5) + (sin(q1)*sin(q3)*cos(q2) - cos(q1)*cos(q3))*sin(q5))*sin(q6) + ((sin(q1)*cos(q2)*cos(q3) + sin(q3)*cos(q1))*sin(q4) - sin(q1)*sin(q2)*cos(q4))*cos(q6))*cos(theta2) + l5*((((sin(q1)*cos(q2)*cos(q3) + sin(q3)*cos(q1))*cos(q4) + sin(q1)*sin(q2)*sin(q4))*cos(q5) + (sin(q1)*sin(q3)*cos(q2) - cos(q1)*cos(q3))*sin(q5))*cos(q6) + ((sin(q1)*cos(q2)*cos(q3) + sin(q3)*cos(q1))*sin(q4) - sin(q1)*sin(q2)*cos(q4))*sin(q6))*sin(theta2)],\n",
       "[                                                                                                                                                                    (((-sin(q2)*cos(q3)*cos(q4) + sin(q4)*cos(q2))*cos(q5) - sin(q2)*sin(q3)*sin(q5))*cos(q6) + (-sin(q2)*sin(q4)*cos(q3) - cos(q2)*cos(q4))*sin(q6))*cos(q7) - ((-sin(q2)*cos(q3)*cos(q4) + sin(q4)*cos(q2))*sin(q5) + sin(q2)*sin(q3)*cos(q5))*sin(q7),                                                                                                                                                                     -(((-sin(q2)*cos(q3)*cos(q4) + sin(q4)*cos(q2))*cos(q5) - sin(q2)*sin(q3)*sin(q5))*cos(q6) + (-sin(q2)*sin(q4)*cos(q3) - cos(q2)*cos(q4))*sin(q6))*sin(q7) - ((-sin(q2)*cos(q3)*cos(q4) + sin(q4)*cos(q2))*sin(q5) + sin(q2)*sin(q3)*cos(q5))*cos(q7),                                                                                                     -((-sin(q2)*cos(q3)*cos(q4) + sin(q4)*cos(q2))*cos(q5) - sin(q2)*sin(q3)*sin(q5))*sin(q6) + (-sin(q2)*sin(q4)*cos(q3) - cos(q2)*cos(q4))*cos(q6),                                                                                                                                                                                                                                                                                                                   l1 + l2*cos(q2) - l3*sin(q2)*cos(q3) - l4*(sin(q2)*sin(q4)*cos(q3) + cos(q2)*cos(q4))*cos(theta1) + l4*(-sin(q2)*cos(q3)*cos(q4) + sin(q4)*cos(q2))*sin(theta1) + l5*(-((-sin(q2)*cos(q3)*cos(q4) + sin(q4)*cos(q2))*cos(q5) - sin(q2)*sin(q3)*sin(q5))*sin(q6) + (-sin(q2)*sin(q4)*cos(q3) - cos(q2)*cos(q4))*cos(q6))*cos(theta2) + l5*(((-sin(q2)*cos(q3)*cos(q4) + sin(q4)*cos(q2))*cos(q5) - sin(q2)*sin(q3)*sin(q5))*cos(q6) + (-sin(q2)*sin(q4)*cos(q3) - cos(q2)*cos(q4))*sin(q6))*sin(theta2)],\n",
       "[                                                                                                                                                                                                                                                                                                                                                                                                                       0,                                                                                                                                                                                                                                                                                                                                                                                                                         0,                                                                                                                                                                                                                                                    0,                                                                                                                                                                                                                                                                                                                                                                                                                                                                                                                                                                                                                                                                                                                                                                                                                        1]])"
      ]
     },
     "execution_count": 7,
     "metadata": {},
     "output_type": "execute_result"
    }
   ],
   "source": [
    "A07"
   ]
  },
  {
   "cell_type": "code",
   "execution_count": 9,
   "metadata": {},
   "outputs": [],
   "source": [
    "mhtra = simplify(A07)"
   ]
  },
  {
   "cell_type": "code",
   "execution_count": 10,
   "metadata": {
    "collapsed": true
   },
   "outputs": [
    {
     "data": {
      "text/latex": [
       "$\\displaystyle l_{1} + l_{2} \\cos{\\left(q_{2} \\right)} - l_{3} \\sin{\\left(q_{2} \\right)} \\cos{\\left(q_{3} \\right)} - l_{4} \\sin{\\left(q_{2} \\right)} \\sin{\\left(q_{4} + \\theta_{1} \\right)} \\cos{\\left(q_{3} \\right)} - l_{4} \\cos{\\left(q_{2} \\right)} \\cos{\\left(q_{4} + \\theta_{1} \\right)} + l_{5} \\sin{\\left(q_{2} \\right)} \\sin{\\left(q_{3} \\right)} \\sin{\\left(q_{5} \\right)} \\sin{\\left(q_{6} - \\theta_{2} \\right)} - l_{5} \\sin{\\left(q_{2} \\right)} \\sin{\\left(q_{4} \\right)} \\cos{\\left(q_{3} \\right)} \\cos{\\left(q_{6} - \\theta_{2} \\right)} + l_{5} \\sin{\\left(q_{2} \\right)} \\sin{\\left(q_{6} - \\theta_{2} \\right)} \\cos{\\left(q_{3} \\right)} \\cos{\\left(q_{4} \\right)} \\cos{\\left(q_{5} \\right)} - l_{5} \\sin{\\left(q_{4} \\right)} \\sin{\\left(q_{6} - \\theta_{2} \\right)} \\cos{\\left(q_{2} \\right)} \\cos{\\left(q_{5} \\right)} - l_{5} \\cos{\\left(q_{2} \\right)} \\cos{\\left(q_{4} \\right)} \\cos{\\left(q_{6} - \\theta_{2} \\right)}$"
      ],
      "text/plain": [
       "l1 + l2*cos(q2) - l3*sin(q2)*cos(q3) - l4*sin(q2)*sin(q4 + theta1)*cos(q3) - l4*cos(q2)*cos(q4 + theta1) + l5*sin(q2)*sin(q3)*sin(q5)*sin(q6 - theta2) - l5*sin(q2)*sin(q4)*cos(q3)*cos(q6 - theta2) + l5*sin(q2)*sin(q6 - theta2)*cos(q3)*cos(q4)*cos(q5) - l5*sin(q4)*sin(q6 - theta2)*cos(q2)*cos(q5) - l5*cos(q2)*cos(q4)*cos(q6 - theta2)"
      ]
     },
     "execution_count": 10,
     "metadata": {},
     "output_type": "execute_result"
    }
   ],
   "source": [
    "px = mhtra[0,3]\n",
    "py = mhtra[1,3]\n",
    "pz = mhtra[2,3]"
   ]
  },
  {
   "cell_type": "code",
   "execution_count": 11,
   "metadata": {},
   "outputs": [],
   "source": [
    "J = Jacobian('q1 q2 q3 q4 q5 q6 q7', px,py,pz)"
   ]
  },
  {
   "cell_type": "code",
   "execution_count": 12,
   "metadata": {
    "collapsed": true
   },
   "outputs": [
    {
     "data": {
      "text/latex": [
       "$\\displaystyle \\left[\\begin{matrix}- l_{2} \\sin{\\left(q_{1} \\right)} \\sin{\\left(q_{2} \\right)} - l_{3} \\sin{\\left(q_{1} \\right)} \\cos{\\left(q_{2} \\right)} \\cos{\\left(q_{3} \\right)} - l_{3} \\sin{\\left(q_{3} \\right)} \\cos{\\left(q_{1} \\right)} + l_{4} \\sin{\\left(q_{1} \\right)} \\sin{\\left(q_{2} \\right)} \\cos{\\left(q_{4} + \\theta_{1} \\right)} - l_{4} \\sin{\\left(q_{1} \\right)} \\sin{\\left(q_{4} + \\theta_{1} \\right)} \\cos{\\left(q_{2} \\right)} \\cos{\\left(q_{3} \\right)} - l_{4} \\sin{\\left(q_{3} \\right)} \\sin{\\left(q_{4} + \\theta_{1} \\right)} \\cos{\\left(q_{1} \\right)} + l_{5} \\sin{\\left(q_{1} \\right)} \\sin{\\left(q_{2} \\right)} \\sin{\\left(q_{4} \\right)} \\sin{\\left(q_{6} - \\theta_{2} \\right)} \\cos{\\left(q_{5} \\right)} + l_{5} \\sin{\\left(q_{1} \\right)} \\sin{\\left(q_{2} \\right)} \\cos{\\left(q_{4} \\right)} \\cos{\\left(q_{6} - \\theta_{2} \\right)} + l_{5} \\sin{\\left(q_{1} \\right)} \\sin{\\left(q_{3} \\right)} \\sin{\\left(q_{5} \\right)} \\sin{\\left(q_{6} - \\theta_{2} \\right)} \\cos{\\left(q_{2} \\right)} - l_{5} \\sin{\\left(q_{1} \\right)} \\sin{\\left(q_{4} \\right)} \\cos{\\left(q_{2} \\right)} \\cos{\\left(q_{3} \\right)} \\cos{\\left(q_{6} - \\theta_{2} \\right)} + l_{5} \\sin{\\left(q_{1} \\right)} \\sin{\\left(q_{6} - \\theta_{2} \\right)} \\cos{\\left(q_{2} \\right)} \\cos{\\left(q_{3} \\right)} \\cos{\\left(q_{4} \\right)} \\cos{\\left(q_{5} \\right)} - l_{5} \\sin{\\left(q_{3} \\right)} \\sin{\\left(q_{4} \\right)} \\cos{\\left(q_{1} \\right)} \\cos{\\left(q_{6} - \\theta_{2} \\right)} + l_{5} \\sin{\\left(q_{3} \\right)} \\sin{\\left(q_{6} - \\theta_{2} \\right)} \\cos{\\left(q_{1} \\right)} \\cos{\\left(q_{4} \\right)} \\cos{\\left(q_{5} \\right)} - l_{5} \\sin{\\left(q_{5} \\right)} \\sin{\\left(q_{6} - \\theta_{2} \\right)} \\cos{\\left(q_{1} \\right)} \\cos{\\left(q_{3} \\right)} & l_{2} \\cos{\\left(q_{1} \\right)} \\cos{\\left(q_{2} \\right)} - l_{3} \\sin{\\left(q_{2} \\right)} \\cos{\\left(q_{1} \\right)} \\cos{\\left(q_{3} \\right)} - l_{4} \\sin{\\left(q_{2} \\right)} \\sin{\\left(q_{4} + \\theta_{1} \\right)} \\cos{\\left(q_{1} \\right)} \\cos{\\left(q_{3} \\right)} - l_{4} \\cos{\\left(q_{1} \\right)} \\cos{\\left(q_{2} \\right)} \\cos{\\left(q_{4} + \\theta_{1} \\right)} + l_{5} \\sin{\\left(q_{2} \\right)} \\sin{\\left(q_{3} \\right)} \\sin{\\left(q_{5} \\right)} \\sin{\\left(q_{6} - \\theta_{2} \\right)} \\cos{\\left(q_{1} \\right)} - l_{5} \\sin{\\left(q_{2} \\right)} \\sin{\\left(q_{4} \\right)} \\cos{\\left(q_{1} \\right)} \\cos{\\left(q_{3} \\right)} \\cos{\\left(q_{6} - \\theta_{2} \\right)} + l_{5} \\sin{\\left(q_{2} \\right)} \\sin{\\left(q_{6} - \\theta_{2} \\right)} \\cos{\\left(q_{1} \\right)} \\cos{\\left(q_{3} \\right)} \\cos{\\left(q_{4} \\right)} \\cos{\\left(q_{5} \\right)} - l_{5} \\sin{\\left(q_{4} \\right)} \\sin{\\left(q_{6} - \\theta_{2} \\right)} \\cos{\\left(q_{1} \\right)} \\cos{\\left(q_{2} \\right)} \\cos{\\left(q_{5} \\right)} - l_{5} \\cos{\\left(q_{1} \\right)} \\cos{\\left(q_{2} \\right)} \\cos{\\left(q_{4} \\right)} \\cos{\\left(q_{6} - \\theta_{2} \\right)} & - l_{3} \\sin{\\left(q_{1} \\right)} \\cos{\\left(q_{3} \\right)} - l_{3} \\sin{\\left(q_{3} \\right)} \\cos{\\left(q_{1} \\right)} \\cos{\\left(q_{2} \\right)} - l_{4} \\sin{\\left(q_{1} \\right)} \\sin{\\left(q_{4} + \\theta_{1} \\right)} \\cos{\\left(q_{3} \\right)} - l_{4} \\sin{\\left(q_{3} \\right)} \\sin{\\left(q_{4} + \\theta_{1} \\right)} \\cos{\\left(q_{1} \\right)} \\cos{\\left(q_{2} \\right)} + l_{5} \\sin{\\left(q_{1} \\right)} \\sin{\\left(q_{3} \\right)} \\sin{\\left(q_{5} \\right)} \\sin{\\left(q_{6} - \\theta_{2} \\right)} - l_{5} \\sin{\\left(q_{1} \\right)} \\sin{\\left(q_{4} \\right)} \\cos{\\left(q_{3} \\right)} \\cos{\\left(q_{6} - \\theta_{2} \\right)} + l_{5} \\sin{\\left(q_{1} \\right)} \\sin{\\left(q_{6} - \\theta_{2} \\right)} \\cos{\\left(q_{3} \\right)} \\cos{\\left(q_{4} \\right)} \\cos{\\left(q_{5} \\right)} - l_{5} \\sin{\\left(q_{3} \\right)} \\sin{\\left(q_{4} \\right)} \\cos{\\left(q_{1} \\right)} \\cos{\\left(q_{2} \\right)} \\cos{\\left(q_{6} - \\theta_{2} \\right)} + l_{5} \\sin{\\left(q_{3} \\right)} \\sin{\\left(q_{6} - \\theta_{2} \\right)} \\cos{\\left(q_{1} \\right)} \\cos{\\left(q_{2} \\right)} \\cos{\\left(q_{4} \\right)} \\cos{\\left(q_{5} \\right)} - l_{5} \\sin{\\left(q_{5} \\right)} \\sin{\\left(q_{6} - \\theta_{2} \\right)} \\cos{\\left(q_{1} \\right)} \\cos{\\left(q_{2} \\right)} \\cos{\\left(q_{3} \\right)} & - l_{4} \\sin{\\left(q_{1} \\right)} \\sin{\\left(q_{3} \\right)} \\cos{\\left(q_{4} + \\theta_{1} \\right)} + l_{4} \\sin{\\left(q_{2} \\right)} \\sin{\\left(q_{4} + \\theta_{1} \\right)} \\cos{\\left(q_{1} \\right)} + l_{4} \\cos{\\left(q_{1} \\right)} \\cos{\\left(q_{2} \\right)} \\cos{\\left(q_{3} \\right)} \\cos{\\left(q_{4} + \\theta_{1} \\right)} - l_{5} \\sin{\\left(q_{1} \\right)} \\sin{\\left(q_{3} \\right)} \\sin{\\left(q_{4} \\right)} \\sin{\\left(q_{6} - \\theta_{2} \\right)} \\cos{\\left(q_{5} \\right)} - l_{5} \\sin{\\left(q_{1} \\right)} \\sin{\\left(q_{3} \\right)} \\cos{\\left(q_{4} \\right)} \\cos{\\left(q_{6} - \\theta_{2} \\right)} + l_{5} \\sin{\\left(q_{2} \\right)} \\sin{\\left(q_{4} \\right)} \\cos{\\left(q_{1} \\right)} \\cos{\\left(q_{6} - \\theta_{2} \\right)} - l_{5} \\sin{\\left(q_{2} \\right)} \\sin{\\left(q_{6} - \\theta_{2} \\right)} \\cos{\\left(q_{1} \\right)} \\cos{\\left(q_{4} \\right)} \\cos{\\left(q_{5} \\right)} + l_{5} \\sin{\\left(q_{4} \\right)} \\sin{\\left(q_{6} - \\theta_{2} \\right)} \\cos{\\left(q_{1} \\right)} \\cos{\\left(q_{2} \\right)} \\cos{\\left(q_{3} \\right)} \\cos{\\left(q_{5} \\right)} + l_{5} \\cos{\\left(q_{1} \\right)} \\cos{\\left(q_{2} \\right)} \\cos{\\left(q_{3} \\right)} \\cos{\\left(q_{4} \\right)} \\cos{\\left(q_{6} - \\theta_{2} \\right)} & - l_{5} \\sin{\\left(q_{1} \\right)} \\sin{\\left(q_{3} \\right)} \\sin{\\left(q_{5} \\right)} \\sin{\\left(q_{6} - \\theta_{2} \\right)} \\cos{\\left(q_{4} \\right)} - l_{5} \\sin{\\left(q_{1} \\right)} \\sin{\\left(q_{6} - \\theta_{2} \\right)} \\cos{\\left(q_{3} \\right)} \\cos{\\left(q_{5} \\right)} + l_{5} \\sin{\\left(q_{2} \\right)} \\sin{\\left(q_{4} \\right)} \\sin{\\left(q_{5} \\right)} \\sin{\\left(q_{6} - \\theta_{2} \\right)} \\cos{\\left(q_{1} \\right)} - l_{5} \\sin{\\left(q_{3} \\right)} \\sin{\\left(q_{6} - \\theta_{2} \\right)} \\cos{\\left(q_{1} \\right)} \\cos{\\left(q_{2} \\right)} \\cos{\\left(q_{5} \\right)} + l_{5} \\sin{\\left(q_{5} \\right)} \\sin{\\left(q_{6} - \\theta_{2} \\right)} \\cos{\\left(q_{1} \\right)} \\cos{\\left(q_{2} \\right)} \\cos{\\left(q_{3} \\right)} \\cos{\\left(q_{4} \\right)} & l_{5} \\sin{\\left(q_{1} \\right)} \\sin{\\left(q_{3} \\right)} \\sin{\\left(q_{4} \\right)} \\sin{\\left(q_{6} - \\theta_{2} \\right)} + l_{5} \\sin{\\left(q_{1} \\right)} \\sin{\\left(q_{3} \\right)} \\cos{\\left(q_{4} \\right)} \\cos{\\left(q_{5} \\right)} \\cos{\\left(q_{6} - \\theta_{2} \\right)} - l_{5} \\sin{\\left(q_{1} \\right)} \\sin{\\left(q_{5} \\right)} \\cos{\\left(q_{3} \\right)} \\cos{\\left(q_{6} - \\theta_{2} \\right)} - l_{5} \\sin{\\left(q_{2} \\right)} \\sin{\\left(q_{4} \\right)} \\cos{\\left(q_{1} \\right)} \\cos{\\left(q_{5} \\right)} \\cos{\\left(q_{6} - \\theta_{2} \\right)} + l_{5} \\sin{\\left(q_{2} \\right)} \\sin{\\left(q_{6} - \\theta_{2} \\right)} \\cos{\\left(q_{1} \\right)} \\cos{\\left(q_{4} \\right)} - l_{5} \\sin{\\left(q_{3} \\right)} \\sin{\\left(q_{5} \\right)} \\cos{\\left(q_{1} \\right)} \\cos{\\left(q_{2} \\right)} \\cos{\\left(q_{6} - \\theta_{2} \\right)} - l_{5} \\sin{\\left(q_{4} \\right)} \\sin{\\left(q_{6} - \\theta_{2} \\right)} \\cos{\\left(q_{1} \\right)} \\cos{\\left(q_{2} \\right)} \\cos{\\left(q_{3} \\right)} - l_{5} \\cos{\\left(q_{1} \\right)} \\cos{\\left(q_{2} \\right)} \\cos{\\left(q_{3} \\right)} \\cos{\\left(q_{4} \\right)} \\cos{\\left(q_{5} \\right)} \\cos{\\left(q_{6} - \\theta_{2} \\right)} & 0\\\\l_{2} \\sin{\\left(q_{2} \\right)} \\cos{\\left(q_{1} \\right)} - l_{3} \\sin{\\left(q_{1} \\right)} \\sin{\\left(q_{3} \\right)} + l_{3} \\cos{\\left(q_{1} \\right)} \\cos{\\left(q_{2} \\right)} \\cos{\\left(q_{3} \\right)} - l_{4} \\sin{\\left(q_{1} \\right)} \\sin{\\left(q_{3} \\right)} \\sin{\\left(q_{4} + \\theta_{1} \\right)} - l_{4} \\sin{\\left(q_{2} \\right)} \\cos{\\left(q_{1} \\right)} \\cos{\\left(q_{4} + \\theta_{1} \\right)} + l_{4} \\sin{\\left(q_{4} + \\theta_{1} \\right)} \\cos{\\left(q_{1} \\right)} \\cos{\\left(q_{2} \\right)} \\cos{\\left(q_{3} \\right)} - l_{5} \\sin{\\left(q_{1} \\right)} \\sin{\\left(q_{3} \\right)} \\sin{\\left(q_{4} \\right)} \\cos{\\left(q_{6} - \\theta_{2} \\right)} + l_{5} \\sin{\\left(q_{1} \\right)} \\sin{\\left(q_{3} \\right)} \\sin{\\left(q_{6} - \\theta_{2} \\right)} \\cos{\\left(q_{4} \\right)} \\cos{\\left(q_{5} \\right)} - l_{5} \\sin{\\left(q_{1} \\right)} \\sin{\\left(q_{5} \\right)} \\sin{\\left(q_{6} - \\theta_{2} \\right)} \\cos{\\left(q_{3} \\right)} - l_{5} \\sin{\\left(q_{2} \\right)} \\sin{\\left(q_{4} \\right)} \\sin{\\left(q_{6} - \\theta_{2} \\right)} \\cos{\\left(q_{1} \\right)} \\cos{\\left(q_{5} \\right)} - l_{5} \\sin{\\left(q_{2} \\right)} \\cos{\\left(q_{1} \\right)} \\cos{\\left(q_{4} \\right)} \\cos{\\left(q_{6} - \\theta_{2} \\right)} - l_{5} \\sin{\\left(q_{3} \\right)} \\sin{\\left(q_{5} \\right)} \\sin{\\left(q_{6} - \\theta_{2} \\right)} \\cos{\\left(q_{1} \\right)} \\cos{\\left(q_{2} \\right)} + l_{5} \\sin{\\left(q_{4} \\right)} \\cos{\\left(q_{1} \\right)} \\cos{\\left(q_{2} \\right)} \\cos{\\left(q_{3} \\right)} \\cos{\\left(q_{6} - \\theta_{2} \\right)} - l_{5} \\sin{\\left(q_{6} - \\theta_{2} \\right)} \\cos{\\left(q_{1} \\right)} \\cos{\\left(q_{2} \\right)} \\cos{\\left(q_{3} \\right)} \\cos{\\left(q_{4} \\right)} \\cos{\\left(q_{5} \\right)} & l_{2} \\sin{\\left(q_{1} \\right)} \\cos{\\left(q_{2} \\right)} - l_{3} \\sin{\\left(q_{1} \\right)} \\sin{\\left(q_{2} \\right)} \\cos{\\left(q_{3} \\right)} - l_{4} \\sin{\\left(q_{1} \\right)} \\sin{\\left(q_{2} \\right)} \\sin{\\left(q_{4} + \\theta_{1} \\right)} \\cos{\\left(q_{3} \\right)} - l_{4} \\sin{\\left(q_{1} \\right)} \\cos{\\left(q_{2} \\right)} \\cos{\\left(q_{4} + \\theta_{1} \\right)} + l_{5} \\sin{\\left(q_{1} \\right)} \\sin{\\left(q_{2} \\right)} \\sin{\\left(q_{3} \\right)} \\sin{\\left(q_{5} \\right)} \\sin{\\left(q_{6} - \\theta_{2} \\right)} - l_{5} \\sin{\\left(q_{1} \\right)} \\sin{\\left(q_{2} \\right)} \\sin{\\left(q_{4} \\right)} \\cos{\\left(q_{3} \\right)} \\cos{\\left(q_{6} - \\theta_{2} \\right)} + l_{5} \\sin{\\left(q_{1} \\right)} \\sin{\\left(q_{2} \\right)} \\sin{\\left(q_{6} - \\theta_{2} \\right)} \\cos{\\left(q_{3} \\right)} \\cos{\\left(q_{4} \\right)} \\cos{\\left(q_{5} \\right)} - l_{5} \\sin{\\left(q_{1} \\right)} \\sin{\\left(q_{4} \\right)} \\sin{\\left(q_{6} - \\theta_{2} \\right)} \\cos{\\left(q_{2} \\right)} \\cos{\\left(q_{5} \\right)} - l_{5} \\sin{\\left(q_{1} \\right)} \\cos{\\left(q_{2} \\right)} \\cos{\\left(q_{4} \\right)} \\cos{\\left(q_{6} - \\theta_{2} \\right)} & - l_{3} \\sin{\\left(q_{1} \\right)} \\sin{\\left(q_{3} \\right)} \\cos{\\left(q_{2} \\right)} + l_{3} \\cos{\\left(q_{1} \\right)} \\cos{\\left(q_{3} \\right)} - l_{4} \\sin{\\left(q_{1} \\right)} \\sin{\\left(q_{3} \\right)} \\sin{\\left(q_{4} + \\theta_{1} \\right)} \\cos{\\left(q_{2} \\right)} + l_{4} \\sin{\\left(q_{4} + \\theta_{1} \\right)} \\cos{\\left(q_{1} \\right)} \\cos{\\left(q_{3} \\right)} - l_{5} \\sin{\\left(q_{1} \\right)} \\sin{\\left(q_{3} \\right)} \\sin{\\left(q_{4} \\right)} \\cos{\\left(q_{2} \\right)} \\cos{\\left(q_{6} - \\theta_{2} \\right)} + l_{5} \\sin{\\left(q_{1} \\right)} \\sin{\\left(q_{3} \\right)} \\sin{\\left(q_{6} - \\theta_{2} \\right)} \\cos{\\left(q_{2} \\right)} \\cos{\\left(q_{4} \\right)} \\cos{\\left(q_{5} \\right)} - l_{5} \\sin{\\left(q_{1} \\right)} \\sin{\\left(q_{5} \\right)} \\sin{\\left(q_{6} - \\theta_{2} \\right)} \\cos{\\left(q_{2} \\right)} \\cos{\\left(q_{3} \\right)} - l_{5} \\sin{\\left(q_{3} \\right)} \\sin{\\left(q_{5} \\right)} \\sin{\\left(q_{6} - \\theta_{2} \\right)} \\cos{\\left(q_{1} \\right)} + l_{5} \\sin{\\left(q_{4} \\right)} \\cos{\\left(q_{1} \\right)} \\cos{\\left(q_{3} \\right)} \\cos{\\left(q_{6} - \\theta_{2} \\right)} - l_{5} \\sin{\\left(q_{6} - \\theta_{2} \\right)} \\cos{\\left(q_{1} \\right)} \\cos{\\left(q_{3} \\right)} \\cos{\\left(q_{4} \\right)} \\cos{\\left(q_{5} \\right)} & l_{4} \\sin{\\left(q_{1} \\right)} \\sin{\\left(q_{2} \\right)} \\sin{\\left(q_{4} + \\theta_{1} \\right)} + l_{4} \\sin{\\left(q_{1} \\right)} \\cos{\\left(q_{2} \\right)} \\cos{\\left(q_{3} \\right)} \\cos{\\left(q_{4} + \\theta_{1} \\right)} + l_{4} \\sin{\\left(q_{3} \\right)} \\cos{\\left(q_{1} \\right)} \\cos{\\left(q_{4} + \\theta_{1} \\right)} + l_{5} \\sin{\\left(q_{1} \\right)} \\sin{\\left(q_{2} \\right)} \\sin{\\left(q_{4} \\right)} \\cos{\\left(q_{6} - \\theta_{2} \\right)} - l_{5} \\sin{\\left(q_{1} \\right)} \\sin{\\left(q_{2} \\right)} \\sin{\\left(q_{6} - \\theta_{2} \\right)} \\cos{\\left(q_{4} \\right)} \\cos{\\left(q_{5} \\right)} + l_{5} \\sin{\\left(q_{1} \\right)} \\sin{\\left(q_{4} \\right)} \\sin{\\left(q_{6} - \\theta_{2} \\right)} \\cos{\\left(q_{2} \\right)} \\cos{\\left(q_{3} \\right)} \\cos{\\left(q_{5} \\right)} + l_{5} \\sin{\\left(q_{1} \\right)} \\cos{\\left(q_{2} \\right)} \\cos{\\left(q_{3} \\right)} \\cos{\\left(q_{4} \\right)} \\cos{\\left(q_{6} - \\theta_{2} \\right)} + l_{5} \\sin{\\left(q_{3} \\right)} \\sin{\\left(q_{4} \\right)} \\sin{\\left(q_{6} - \\theta_{2} \\right)} \\cos{\\left(q_{1} \\right)} \\cos{\\left(q_{5} \\right)} + l_{5} \\sin{\\left(q_{3} \\right)} \\cos{\\left(q_{1} \\right)} \\cos{\\left(q_{4} \\right)} \\cos{\\left(q_{6} - \\theta_{2} \\right)} & l_{5} \\sin{\\left(q_{1} \\right)} \\sin{\\left(q_{2} \\right)} \\sin{\\left(q_{4} \\right)} \\sin{\\left(q_{5} \\right)} \\sin{\\left(q_{6} - \\theta_{2} \\right)} - l_{5} \\sin{\\left(q_{1} \\right)} \\sin{\\left(q_{3} \\right)} \\sin{\\left(q_{6} - \\theta_{2} \\right)} \\cos{\\left(q_{2} \\right)} \\cos{\\left(q_{5} \\right)} + l_{5} \\sin{\\left(q_{1} \\right)} \\sin{\\left(q_{5} \\right)} \\sin{\\left(q_{6} - \\theta_{2} \\right)} \\cos{\\left(q_{2} \\right)} \\cos{\\left(q_{3} \\right)} \\cos{\\left(q_{4} \\right)} + l_{5} \\sin{\\left(q_{3} \\right)} \\sin{\\left(q_{5} \\right)} \\sin{\\left(q_{6} - \\theta_{2} \\right)} \\cos{\\left(q_{1} \\right)} \\cos{\\left(q_{4} \\right)} + l_{5} \\sin{\\left(q_{6} - \\theta_{2} \\right)} \\cos{\\left(q_{1} \\right)} \\cos{\\left(q_{3} \\right)} \\cos{\\left(q_{5} \\right)} & - l_{5} \\sin{\\left(q_{1} \\right)} \\sin{\\left(q_{2} \\right)} \\sin{\\left(q_{4} \\right)} \\cos{\\left(q_{5} \\right)} \\cos{\\left(q_{6} - \\theta_{2} \\right)} + l_{5} \\sin{\\left(q_{1} \\right)} \\sin{\\left(q_{2} \\right)} \\sin{\\left(q_{6} - \\theta_{2} \\right)} \\cos{\\left(q_{4} \\right)} - l_{5} \\sin{\\left(q_{1} \\right)} \\sin{\\left(q_{3} \\right)} \\sin{\\left(q_{5} \\right)} \\cos{\\left(q_{2} \\right)} \\cos{\\left(q_{6} - \\theta_{2} \\right)} - l_{5} \\sin{\\left(q_{1} \\right)} \\sin{\\left(q_{4} \\right)} \\sin{\\left(q_{6} - \\theta_{2} \\right)} \\cos{\\left(q_{2} \\right)} \\cos{\\left(q_{3} \\right)} - l_{5} \\sin{\\left(q_{1} \\right)} \\cos{\\left(q_{2} \\right)} \\cos{\\left(q_{3} \\right)} \\cos{\\left(q_{4} \\right)} \\cos{\\left(q_{5} \\right)} \\cos{\\left(q_{6} - \\theta_{2} \\right)} - l_{5} \\sin{\\left(q_{3} \\right)} \\sin{\\left(q_{4} \\right)} \\sin{\\left(q_{6} - \\theta_{2} \\right)} \\cos{\\left(q_{1} \\right)} - l_{5} \\sin{\\left(q_{3} \\right)} \\cos{\\left(q_{1} \\right)} \\cos{\\left(q_{4} \\right)} \\cos{\\left(q_{5} \\right)} \\cos{\\left(q_{6} - \\theta_{2} \\right)} + l_{5} \\sin{\\left(q_{5} \\right)} \\cos{\\left(q_{1} \\right)} \\cos{\\left(q_{3} \\right)} \\cos{\\left(q_{6} - \\theta_{2} \\right)} & 0\\\\0 & - l_{2} \\sin{\\left(q_{2} \\right)} - l_{3} \\cos{\\left(q_{2} \\right)} \\cos{\\left(q_{3} \\right)} + l_{4} \\sin{\\left(q_{2} \\right)} \\cos{\\left(q_{4} + \\theta_{1} \\right)} - l_{4} \\sin{\\left(q_{4} + \\theta_{1} \\right)} \\cos{\\left(q_{2} \\right)} \\cos{\\left(q_{3} \\right)} + l_{5} \\sin{\\left(q_{2} \\right)} \\sin{\\left(q_{4} \\right)} \\sin{\\left(q_{6} - \\theta_{2} \\right)} \\cos{\\left(q_{5} \\right)} + l_{5} \\sin{\\left(q_{2} \\right)} \\cos{\\left(q_{4} \\right)} \\cos{\\left(q_{6} - \\theta_{2} \\right)} + l_{5} \\sin{\\left(q_{3} \\right)} \\sin{\\left(q_{5} \\right)} \\sin{\\left(q_{6} - \\theta_{2} \\right)} \\cos{\\left(q_{2} \\right)} - l_{5} \\sin{\\left(q_{4} \\right)} \\cos{\\left(q_{2} \\right)} \\cos{\\left(q_{3} \\right)} \\cos{\\left(q_{6} - \\theta_{2} \\right)} + l_{5} \\sin{\\left(q_{6} - \\theta_{2} \\right)} \\cos{\\left(q_{2} \\right)} \\cos{\\left(q_{3} \\right)} \\cos{\\left(q_{4} \\right)} \\cos{\\left(q_{5} \\right)} & l_{3} \\sin{\\left(q_{2} \\right)} \\sin{\\left(q_{3} \\right)} + l_{4} \\sin{\\left(q_{2} \\right)} \\sin{\\left(q_{3} \\right)} \\sin{\\left(q_{4} + \\theta_{1} \\right)} + l_{5} \\sin{\\left(q_{2} \\right)} \\sin{\\left(q_{3} \\right)} \\sin{\\left(q_{4} \\right)} \\cos{\\left(q_{6} - \\theta_{2} \\right)} - l_{5} \\sin{\\left(q_{2} \\right)} \\sin{\\left(q_{3} \\right)} \\sin{\\left(q_{6} - \\theta_{2} \\right)} \\cos{\\left(q_{4} \\right)} \\cos{\\left(q_{5} \\right)} + l_{5} \\sin{\\left(q_{2} \\right)} \\sin{\\left(q_{5} \\right)} \\sin{\\left(q_{6} - \\theta_{2} \\right)} \\cos{\\left(q_{3} \\right)} & - l_{4} \\sin{\\left(q_{2} \\right)} \\cos{\\left(q_{3} \\right)} \\cos{\\left(q_{4} + \\theta_{1} \\right)} + l_{4} \\sin{\\left(q_{4} + \\theta_{1} \\right)} \\cos{\\left(q_{2} \\right)} - l_{5} \\sin{\\left(q_{2} \\right)} \\sin{\\left(q_{4} \\right)} \\sin{\\left(q_{6} - \\theta_{2} \\right)} \\cos{\\left(q_{3} \\right)} \\cos{\\left(q_{5} \\right)} - l_{5} \\sin{\\left(q_{2} \\right)} \\cos{\\left(q_{3} \\right)} \\cos{\\left(q_{4} \\right)} \\cos{\\left(q_{6} - \\theta_{2} \\right)} + l_{5} \\sin{\\left(q_{4} \\right)} \\cos{\\left(q_{2} \\right)} \\cos{\\left(q_{6} - \\theta_{2} \\right)} - l_{5} \\sin{\\left(q_{6} - \\theta_{2} \\right)} \\cos{\\left(q_{2} \\right)} \\cos{\\left(q_{4} \\right)} \\cos{\\left(q_{5} \\right)} & l_{5} \\sin{\\left(q_{2} \\right)} \\sin{\\left(q_{3} \\right)} \\sin{\\left(q_{6} - \\theta_{2} \\right)} \\cos{\\left(q_{5} \\right)} - l_{5} \\sin{\\left(q_{2} \\right)} \\sin{\\left(q_{5} \\right)} \\sin{\\left(q_{6} - \\theta_{2} \\right)} \\cos{\\left(q_{3} \\right)} \\cos{\\left(q_{4} \\right)} + l_{5} \\sin{\\left(q_{4} \\right)} \\sin{\\left(q_{5} \\right)} \\sin{\\left(q_{6} - \\theta_{2} \\right)} \\cos{\\left(q_{2} \\right)} & l_{5} \\sin{\\left(q_{2} \\right)} \\sin{\\left(q_{3} \\right)} \\sin{\\left(q_{5} \\right)} \\cos{\\left(q_{6} - \\theta_{2} \\right)} + l_{5} \\sin{\\left(q_{2} \\right)} \\sin{\\left(q_{4} \\right)} \\sin{\\left(q_{6} - \\theta_{2} \\right)} \\cos{\\left(q_{3} \\right)} + l_{5} \\sin{\\left(q_{2} \\right)} \\cos{\\left(q_{3} \\right)} \\cos{\\left(q_{4} \\right)} \\cos{\\left(q_{5} \\right)} \\cos{\\left(q_{6} - \\theta_{2} \\right)} - l_{5} \\sin{\\left(q_{4} \\right)} \\cos{\\left(q_{2} \\right)} \\cos{\\left(q_{5} \\right)} \\cos{\\left(q_{6} - \\theta_{2} \\right)} + l_{5} \\sin{\\left(q_{6} - \\theta_{2} \\right)} \\cos{\\left(q_{2} \\right)} \\cos{\\left(q_{4} \\right)} & 0\\\\0 & 0 & 0 & 0 & 0 & 0 & 0\\\\0 & 0 & 0 & 0 & 0 & 0 & 0\\\\0 & 0 & 0 & 0 & 0 & 0 & 0\\\\0 & 0 & 0 & 0 & 0 & 0 & 0\\end{matrix}\\right]$"
      ],
      "text/plain": [
       "Matrix([\n",
       "[-l2*sin(q1)*sin(q2) - l3*sin(q1)*cos(q2)*cos(q3) - l3*sin(q3)*cos(q1) + l4*sin(q1)*sin(q2)*cos(q4 + theta1) - l4*sin(q1)*sin(q4 + theta1)*cos(q2)*cos(q3) - l4*sin(q3)*sin(q4 + theta1)*cos(q1) + l5*sin(q1)*sin(q2)*sin(q4)*sin(q6 - theta2)*cos(q5) + l5*sin(q1)*sin(q2)*cos(q4)*cos(q6 - theta2) + l5*sin(q1)*sin(q3)*sin(q5)*sin(q6 - theta2)*cos(q2) - l5*sin(q1)*sin(q4)*cos(q2)*cos(q3)*cos(q6 - theta2) + l5*sin(q1)*sin(q6 - theta2)*cos(q2)*cos(q3)*cos(q4)*cos(q5) - l5*sin(q3)*sin(q4)*cos(q1)*cos(q6 - theta2) + l5*sin(q3)*sin(q6 - theta2)*cos(q1)*cos(q4)*cos(q5) - l5*sin(q5)*sin(q6 - theta2)*cos(q1)*cos(q3), l2*cos(q1)*cos(q2) - l3*sin(q2)*cos(q1)*cos(q3) - l4*sin(q2)*sin(q4 + theta1)*cos(q1)*cos(q3) - l4*cos(q1)*cos(q2)*cos(q4 + theta1) + l5*sin(q2)*sin(q3)*sin(q5)*sin(q6 - theta2)*cos(q1) - l5*sin(q2)*sin(q4)*cos(q1)*cos(q3)*cos(q6 - theta2) + l5*sin(q2)*sin(q6 - theta2)*cos(q1)*cos(q3)*cos(q4)*cos(q5) - l5*sin(q4)*sin(q6 - theta2)*cos(q1)*cos(q2)*cos(q5) - l5*cos(q1)*cos(q2)*cos(q4)*cos(q6 - theta2), -l3*sin(q1)*cos(q3) - l3*sin(q3)*cos(q1)*cos(q2) - l4*sin(q1)*sin(q4 + theta1)*cos(q3) - l4*sin(q3)*sin(q4 + theta1)*cos(q1)*cos(q2) + l5*sin(q1)*sin(q3)*sin(q5)*sin(q6 - theta2) - l5*sin(q1)*sin(q4)*cos(q3)*cos(q6 - theta2) + l5*sin(q1)*sin(q6 - theta2)*cos(q3)*cos(q4)*cos(q5) - l5*sin(q3)*sin(q4)*cos(q1)*cos(q2)*cos(q6 - theta2) + l5*sin(q3)*sin(q6 - theta2)*cos(q1)*cos(q2)*cos(q4)*cos(q5) - l5*sin(q5)*sin(q6 - theta2)*cos(q1)*cos(q2)*cos(q3), -l4*sin(q1)*sin(q3)*cos(q4 + theta1) + l4*sin(q2)*sin(q4 + theta1)*cos(q1) + l4*cos(q1)*cos(q2)*cos(q3)*cos(q4 + theta1) - l5*sin(q1)*sin(q3)*sin(q4)*sin(q6 - theta2)*cos(q5) - l5*sin(q1)*sin(q3)*cos(q4)*cos(q6 - theta2) + l5*sin(q2)*sin(q4)*cos(q1)*cos(q6 - theta2) - l5*sin(q2)*sin(q6 - theta2)*cos(q1)*cos(q4)*cos(q5) + l5*sin(q4)*sin(q6 - theta2)*cos(q1)*cos(q2)*cos(q3)*cos(q5) + l5*cos(q1)*cos(q2)*cos(q3)*cos(q4)*cos(q6 - theta2), -l5*sin(q1)*sin(q3)*sin(q5)*sin(q6 - theta2)*cos(q4) - l5*sin(q1)*sin(q6 - theta2)*cos(q3)*cos(q5) + l5*sin(q2)*sin(q4)*sin(q5)*sin(q6 - theta2)*cos(q1) - l5*sin(q3)*sin(q6 - theta2)*cos(q1)*cos(q2)*cos(q5) + l5*sin(q5)*sin(q6 - theta2)*cos(q1)*cos(q2)*cos(q3)*cos(q4),  l5*sin(q1)*sin(q3)*sin(q4)*sin(q6 - theta2) + l5*sin(q1)*sin(q3)*cos(q4)*cos(q5)*cos(q6 - theta2) - l5*sin(q1)*sin(q5)*cos(q3)*cos(q6 - theta2) - l5*sin(q2)*sin(q4)*cos(q1)*cos(q5)*cos(q6 - theta2) + l5*sin(q2)*sin(q6 - theta2)*cos(q1)*cos(q4) - l5*sin(q3)*sin(q5)*cos(q1)*cos(q2)*cos(q6 - theta2) - l5*sin(q4)*sin(q6 - theta2)*cos(q1)*cos(q2)*cos(q3) - l5*cos(q1)*cos(q2)*cos(q3)*cos(q4)*cos(q5)*cos(q6 - theta2), 0],\n",
       "[ l2*sin(q2)*cos(q1) - l3*sin(q1)*sin(q3) + l3*cos(q1)*cos(q2)*cos(q3) - l4*sin(q1)*sin(q3)*sin(q4 + theta1) - l4*sin(q2)*cos(q1)*cos(q4 + theta1) + l4*sin(q4 + theta1)*cos(q1)*cos(q2)*cos(q3) - l5*sin(q1)*sin(q3)*sin(q4)*cos(q6 - theta2) + l5*sin(q1)*sin(q3)*sin(q6 - theta2)*cos(q4)*cos(q5) - l5*sin(q1)*sin(q5)*sin(q6 - theta2)*cos(q3) - l5*sin(q2)*sin(q4)*sin(q6 - theta2)*cos(q1)*cos(q5) - l5*sin(q2)*cos(q1)*cos(q4)*cos(q6 - theta2) - l5*sin(q3)*sin(q5)*sin(q6 - theta2)*cos(q1)*cos(q2) + l5*sin(q4)*cos(q1)*cos(q2)*cos(q3)*cos(q6 - theta2) - l5*sin(q6 - theta2)*cos(q1)*cos(q2)*cos(q3)*cos(q4)*cos(q5), l2*sin(q1)*cos(q2) - l3*sin(q1)*sin(q2)*cos(q3) - l4*sin(q1)*sin(q2)*sin(q4 + theta1)*cos(q3) - l4*sin(q1)*cos(q2)*cos(q4 + theta1) + l5*sin(q1)*sin(q2)*sin(q3)*sin(q5)*sin(q6 - theta2) - l5*sin(q1)*sin(q2)*sin(q4)*cos(q3)*cos(q6 - theta2) + l5*sin(q1)*sin(q2)*sin(q6 - theta2)*cos(q3)*cos(q4)*cos(q5) - l5*sin(q1)*sin(q4)*sin(q6 - theta2)*cos(q2)*cos(q5) - l5*sin(q1)*cos(q2)*cos(q4)*cos(q6 - theta2), -l3*sin(q1)*sin(q3)*cos(q2) + l3*cos(q1)*cos(q3) - l4*sin(q1)*sin(q3)*sin(q4 + theta1)*cos(q2) + l4*sin(q4 + theta1)*cos(q1)*cos(q3) - l5*sin(q1)*sin(q3)*sin(q4)*cos(q2)*cos(q6 - theta2) + l5*sin(q1)*sin(q3)*sin(q6 - theta2)*cos(q2)*cos(q4)*cos(q5) - l5*sin(q1)*sin(q5)*sin(q6 - theta2)*cos(q2)*cos(q3) - l5*sin(q3)*sin(q5)*sin(q6 - theta2)*cos(q1) + l5*sin(q4)*cos(q1)*cos(q3)*cos(q6 - theta2) - l5*sin(q6 - theta2)*cos(q1)*cos(q3)*cos(q4)*cos(q5),  l4*sin(q1)*sin(q2)*sin(q4 + theta1) + l4*sin(q1)*cos(q2)*cos(q3)*cos(q4 + theta1) + l4*sin(q3)*cos(q1)*cos(q4 + theta1) + l5*sin(q1)*sin(q2)*sin(q4)*cos(q6 - theta2) - l5*sin(q1)*sin(q2)*sin(q6 - theta2)*cos(q4)*cos(q5) + l5*sin(q1)*sin(q4)*sin(q6 - theta2)*cos(q2)*cos(q3)*cos(q5) + l5*sin(q1)*cos(q2)*cos(q3)*cos(q4)*cos(q6 - theta2) + l5*sin(q3)*sin(q4)*sin(q6 - theta2)*cos(q1)*cos(q5) + l5*sin(q3)*cos(q1)*cos(q4)*cos(q6 - theta2),  l5*sin(q1)*sin(q2)*sin(q4)*sin(q5)*sin(q6 - theta2) - l5*sin(q1)*sin(q3)*sin(q6 - theta2)*cos(q2)*cos(q5) + l5*sin(q1)*sin(q5)*sin(q6 - theta2)*cos(q2)*cos(q3)*cos(q4) + l5*sin(q3)*sin(q5)*sin(q6 - theta2)*cos(q1)*cos(q4) + l5*sin(q6 - theta2)*cos(q1)*cos(q3)*cos(q5), -l5*sin(q1)*sin(q2)*sin(q4)*cos(q5)*cos(q6 - theta2) + l5*sin(q1)*sin(q2)*sin(q6 - theta2)*cos(q4) - l5*sin(q1)*sin(q3)*sin(q5)*cos(q2)*cos(q6 - theta2) - l5*sin(q1)*sin(q4)*sin(q6 - theta2)*cos(q2)*cos(q3) - l5*sin(q1)*cos(q2)*cos(q3)*cos(q4)*cos(q5)*cos(q6 - theta2) - l5*sin(q3)*sin(q4)*sin(q6 - theta2)*cos(q1) - l5*sin(q3)*cos(q1)*cos(q4)*cos(q5)*cos(q6 - theta2) + l5*sin(q5)*cos(q1)*cos(q3)*cos(q6 - theta2), 0],\n",
       "[                                                                                                                                                                                                                                                                                                                                                                                                                                                                                                                                                                                                                              0,                                                                        -l2*sin(q2) - l3*cos(q2)*cos(q3) + l4*sin(q2)*cos(q4 + theta1) - l4*sin(q4 + theta1)*cos(q2)*cos(q3) + l5*sin(q2)*sin(q4)*sin(q6 - theta2)*cos(q5) + l5*sin(q2)*cos(q4)*cos(q6 - theta2) + l5*sin(q3)*sin(q5)*sin(q6 - theta2)*cos(q2) - l5*sin(q4)*cos(q2)*cos(q3)*cos(q6 - theta2) + l5*sin(q6 - theta2)*cos(q2)*cos(q3)*cos(q4)*cos(q5),                                                                                                                                                                                                                                                       l3*sin(q2)*sin(q3) + l4*sin(q2)*sin(q3)*sin(q4 + theta1) + l5*sin(q2)*sin(q3)*sin(q4)*cos(q6 - theta2) - l5*sin(q2)*sin(q3)*sin(q6 - theta2)*cos(q4)*cos(q5) + l5*sin(q2)*sin(q5)*sin(q6 - theta2)*cos(q3),                                                                                                                                                                                           -l4*sin(q2)*cos(q3)*cos(q4 + theta1) + l4*sin(q4 + theta1)*cos(q2) - l5*sin(q2)*sin(q4)*sin(q6 - theta2)*cos(q3)*cos(q5) - l5*sin(q2)*cos(q3)*cos(q4)*cos(q6 - theta2) + l5*sin(q4)*cos(q2)*cos(q6 - theta2) - l5*sin(q6 - theta2)*cos(q2)*cos(q4)*cos(q5),                                                                                                                              l5*sin(q2)*sin(q3)*sin(q6 - theta2)*cos(q5) - l5*sin(q2)*sin(q5)*sin(q6 - theta2)*cos(q3)*cos(q4) + l5*sin(q4)*sin(q5)*sin(q6 - theta2)*cos(q2),                                                                                                                                                                                            l5*sin(q2)*sin(q3)*sin(q5)*cos(q6 - theta2) + l5*sin(q2)*sin(q4)*sin(q6 - theta2)*cos(q3) + l5*sin(q2)*cos(q3)*cos(q4)*cos(q5)*cos(q6 - theta2) - l5*sin(q4)*cos(q2)*cos(q5)*cos(q6 - theta2) + l5*sin(q6 - theta2)*cos(q2)*cos(q4), 0],\n",
       "[                                                                                                                                                                                                                                                                                                                                                                                                                                                                                                                                                                                                                              0,                                                                                                                                                                                                                                                                                                                                                                                                                 0,                                                                                                                                                                                                                                                                                                                                                                                                                                                                0,                                                                                                                                                                                                                                                                                                                                                                                                                                                    0,                                                                                                                                                                                                                                                                            0,                                                                                                                                                                                                                                                                                                                                                                                                                              0, 0],\n",
       "[                                                                                                                                                                                                                                                                                                                                                                                                                                                                                                                                                                                                                              0,                                                                                                                                                                                                                                                                                                                                                                                                                 0,                                                                                                                                                                                                                                                                                                                                                                                                                                                                0,                                                                                                                                                                                                                                                                                                                                                                                                                                                    0,                                                                                                                                                                                                                                                                            0,                                                                                                                                                                                                                                                                                                                                                                                                                              0, 0],\n",
       "[                                                                                                                                                                                                                                                                                                                                                                                                                                                                                                                                                                                                                              0,                                                                                                                                                                                                                                                                                                                                                                                                                 0,                                                                                                                                                                                                                                                                                                                                                                                                                                                                0,                                                                                                                                                                                                                                                                                                                                                                                                                                                    0,                                                                                                                                                                                                                                                                            0,                                                                                                                                                                                                                                                                                                                                                                                                                              0, 0],\n",
       "[                                                                                                                                                                                                                                                                                                                                                                                                                                                                                                                                                                                                                              0,                                                                                                                                                                                                                                                                                                                                                                                                                 0,                                                                                                                                                                                                                                                                                                                                                                                                                                                                0,                                                                                                                                                                                                                                                                                                                                                                                                                                                    0,                                                                                                                                                                                                                                                                            0,                                                                                                                                                                                                                                                                                                                                                                                                                              0, 0]])"
      ]
     },
     "execution_count": 12,
     "metadata": {},
     "output_type": "execute_result"
    }
   ],
   "source": [
    "#printing the jackobian matrix\n",
    "J"
   ]
  },
  {
   "cell_type": "code",
   "execution_count": 8,
   "metadata": {},
   "outputs": [],
   "source": [
    "##### NOW WE COMPUTE THE CRITICAL POINTS AND THE ξS for the onjective function #####"
   ]
  },
  {
   "cell_type": "code",
   "execution_count": 9,
   "metadata": {},
   "outputs": [],
   "source": [
    "#For the computation of every critical point we only need the\n",
    "#A04 matrix and some transpositions and rotations, that we have already\n",
    "#computed in kinematics.py"
   ]
  },
  {
   "cell_type": "code",
   "execution_count": 10,
   "metadata": {},
   "outputs": [],
   "source": [
    "#a variation of the above function for matrix multiplication to compute A04\n",
    "def matrix_multiplication_1(v_str, f_list1, f_list2, f_list3, f_list4):\n",
    " \n",
    "    vars = sym.symbols(v_str)\n",
    "    f1 = Matrix(f_list1)\n",
    "    f2 = Matrix(f_list2)\n",
    "    f3 = Matrix(f_list3)\n",
    "    f4 = Matrix(f_list4)\n",
    "    \n",
    "    expr = f1*f2\n",
    "    expr = expr*f3\n",
    "    expr = expr*f4\n",
    "    \n",
    "    return expr   "
   ]
  },
  {
   "cell_type": "code",
   "execution_count": 11,
   "metadata": {},
   "outputs": [],
   "source": [
    "A04 = matrix_multiplication_1('q1 q2 q3 q4 l1 l2 l3', tf0_1, tf1_2, tf2_3, tf3_4)"
   ]
  },
  {
   "cell_type": "code",
   "execution_count": 12,
   "metadata": {
    "collapsed": true
   },
   "outputs": [
    {
     "data": {
      "text/latex": [
       "$\\displaystyle \\left[\\begin{matrix}\\left(- \\sin{\\left(q_{1} \\right)} \\sin{\\left(q_{3} \\right)} + \\cos{\\left(q_{1} \\right)} \\cos{\\left(q_{2} \\right)} \\cos{\\left(q_{3} \\right)}\\right) \\cos{\\left(q_{4} \\right)} + \\sin{\\left(q_{2} \\right)} \\sin{\\left(q_{4} \\right)} \\cos{\\left(q_{1} \\right)} & - \\left(- \\sin{\\left(q_{1} \\right)} \\sin{\\left(q_{3} \\right)} + \\cos{\\left(q_{1} \\right)} \\cos{\\left(q_{2} \\right)} \\cos{\\left(q_{3} \\right)}\\right) \\sin{\\left(q_{4} \\right)} + \\sin{\\left(q_{2} \\right)} \\cos{\\left(q_{1} \\right)} \\cos{\\left(q_{4} \\right)} & \\sin{\\left(q_{1} \\right)} \\cos{\\left(q_{3} \\right)} + \\sin{\\left(q_{3} \\right)} \\cos{\\left(q_{1} \\right)} \\cos{\\left(q_{2} \\right)} & l_{2} \\sin{\\left(q_{2} \\right)} \\cos{\\left(q_{1} \\right)} + l_{3} \\left(- \\sin{\\left(q_{1} \\right)} \\sin{\\left(q_{3} \\right)} + \\cos{\\left(q_{1} \\right)} \\cos{\\left(q_{2} \\right)} \\cos{\\left(q_{3} \\right)}\\right)\\\\\\left(\\sin{\\left(q_{1} \\right)} \\cos{\\left(q_{2} \\right)} \\cos{\\left(q_{3} \\right)} + \\sin{\\left(q_{3} \\right)} \\cos{\\left(q_{1} \\right)}\\right) \\cos{\\left(q_{4} \\right)} + \\sin{\\left(q_{1} \\right)} \\sin{\\left(q_{2} \\right)} \\sin{\\left(q_{4} \\right)} & - \\left(\\sin{\\left(q_{1} \\right)} \\cos{\\left(q_{2} \\right)} \\cos{\\left(q_{3} \\right)} + \\sin{\\left(q_{3} \\right)} \\cos{\\left(q_{1} \\right)}\\right) \\sin{\\left(q_{4} \\right)} + \\sin{\\left(q_{1} \\right)} \\sin{\\left(q_{2} \\right)} \\cos{\\left(q_{4} \\right)} & \\sin{\\left(q_{1} \\right)} \\sin{\\left(q_{3} \\right)} \\cos{\\left(q_{2} \\right)} - \\cos{\\left(q_{1} \\right)} \\cos{\\left(q_{3} \\right)} & l_{2} \\sin{\\left(q_{1} \\right)} \\sin{\\left(q_{2} \\right)} + l_{3} \\left(\\sin{\\left(q_{1} \\right)} \\cos{\\left(q_{2} \\right)} \\cos{\\left(q_{3} \\right)} + \\sin{\\left(q_{3} \\right)} \\cos{\\left(q_{1} \\right)}\\right)\\\\- \\sin{\\left(q_{2} \\right)} \\cos{\\left(q_{3} \\right)} \\cos{\\left(q_{4} \\right)} + \\sin{\\left(q_{4} \\right)} \\cos{\\left(q_{2} \\right)} & \\sin{\\left(q_{2} \\right)} \\sin{\\left(q_{4} \\right)} \\cos{\\left(q_{3} \\right)} + \\cos{\\left(q_{2} \\right)} \\cos{\\left(q_{4} \\right)} & - \\sin{\\left(q_{2} \\right)} \\sin{\\left(q_{3} \\right)} & l_{1} + l_{2} \\cos{\\left(q_{2} \\right)} - l_{3} \\sin{\\left(q_{2} \\right)} \\cos{\\left(q_{3} \\right)}\\\\0 & 0 & 0 & 1\\end{matrix}\\right]$"
      ],
      "text/plain": [
       "Matrix([\n",
       "[(-sin(q1)*sin(q3) + cos(q1)*cos(q2)*cos(q3))*cos(q4) + sin(q2)*sin(q4)*cos(q1), -(-sin(q1)*sin(q3) + cos(q1)*cos(q2)*cos(q3))*sin(q4) + sin(q2)*cos(q1)*cos(q4), sin(q1)*cos(q3) + sin(q3)*cos(q1)*cos(q2), l2*sin(q2)*cos(q1) + l3*(-sin(q1)*sin(q3) + cos(q1)*cos(q2)*cos(q3))],\n",
       "[ (sin(q1)*cos(q2)*cos(q3) + sin(q3)*cos(q1))*cos(q4) + sin(q1)*sin(q2)*sin(q4),  -(sin(q1)*cos(q2)*cos(q3) + sin(q3)*cos(q1))*sin(q4) + sin(q1)*sin(q2)*cos(q4), sin(q1)*sin(q3)*cos(q2) - cos(q1)*cos(q3),  l2*sin(q1)*sin(q2) + l3*(sin(q1)*cos(q2)*cos(q3) + sin(q3)*cos(q1))],\n",
       "[                                    -sin(q2)*cos(q3)*cos(q4) + sin(q4)*cos(q2),                                       sin(q2)*sin(q4)*cos(q3) + cos(q2)*cos(q4),                          -sin(q2)*sin(q3),                                 l1 + l2*cos(q2) - l3*sin(q2)*cos(q3)],\n",
       "[                                                                             0,                                                                               0,                                         0,                                                                    1]])"
      ]
     },
     "execution_count": 12,
     "metadata": {},
     "output_type": "execute_result"
    }
   ],
   "source": [
    "A04"
   ]
  },
  {
   "cell_type": "code",
   "execution_count": 13,
   "metadata": {},
   "outputs": [],
   "source": [
    "#one more variation of the above function for matrix multiplication to compute each critical point\n",
    "def matrix_multiplication_2(v_str, f_list1, f_list2):\n",
    " \n",
    "    vars = sym.symbols(v_str)\n",
    "    f1 = Matrix(f_list1)\n",
    "    f2 = Matrix(f_list2)\n",
    "    \n",
    "    expr = f1*f2\n",
    "    \n",
    "    return expr "
   ]
  },
  {
   "cell_type": "code",
   "execution_count": 14,
   "metadata": {},
   "outputs": [],
   "source": [
    "#all the tra/rot matrices for the computation of critical points, from kinematics.py\n",
    "\n",
    "tra1 = Matrix([['1' , '0' , '0' , '0'],['0' , '1' , '0' , '0'],['0' , '0' , '1' , '0.1062'],['0' , '0' , '0' , '1']])\n",
    "rot1 = Matrix([['0.70710' , '0.70710' , '0' , '0'],['-0.70710' , '0.70710' , '0' , '0'],['0' , '0' , '1' , '0'],['0' , '0' , '0' , '1']])\n",
    "tra1_2 = Matrix([['1' , '0' , '0' , '0'],['0' , '1' , '0' , '-0.063'],['0' , '0' , '1' , '0'],['0' , '0' , '0' , '1']])\n",
    "tra2 = Matrix([['1' , '0' , '0' , '0.05'],['0' , '1' , '0' , '0'],['0' , '0' , '1' , '0'],['0' , '0' , '0' , '1']])\n",
    "tra3 = Matrix([['1' , '0' , '0' , '0.05'],['0' , '1' , '0' , '0'],['0' , '0' , '1' , '0'],['0' , '0' , '0' , '1']])\n",
    "tra4 = Matrix([['1' , '0' , '0' , '0'],['0' , '1' , '0' , '0'],['0' , '0' , '1' , '-0.0676'],['0' , '0' , '0' , '1']])\n",
    "tra5 = Matrix([['1' , '0' , '0' , '0'],['0' , '1' , '0' , '0'],['0' , '0' , '1' , '-0.1473'],['0' , '0' , '0' , '1']])\n",
    "rot6 = Matrix([['0.70710' , '0.70710' , '0' , '0'],['-0.70710' , '0.70710' , '0' , '0'],['0' , '0' , '1' , '0'],['0' , '0' , '0' , '1']])\n",
    "tra6 = Matrix([['1' , '0' , '0' , '0.05'],['0' , '1' , '0' , '0'],['0' , '0' , '1' , '0'],['0' , '0' , '0' , '1']])\n",
    "tra7 = Matrix([['1' , '0' , '0' , '0.05'],['0' , '1' , '0' , '0'],['0' , '0' , '1' , '0'],['0' , '0' , '0' , '1']])"
   ]
  },
  {
   "cell_type": "code",
   "execution_count": 18,
   "metadata": {},
   "outputs": [],
   "source": [
    "#the critical points\n",
    "L1_0 = matrix_multiplication_2('q1 q2 q3 q4 l1 l2 l3', A04, tra1)\n",
    "L1_1 = matrix_multiplication_2('q1 q2 q3 q4 l1 l2 l3', L1_0, rot1)\n",
    "L1 = matrix_multiplication_2('q1 q2 q3 q4 l1 l2 l3', L1_1, tra1_2)\n",
    "L2 = matrix_multiplication_2('q1 q2 q3 q4 l1 l2 l3', L1, tra2)\n",
    "L3 = matrix_multiplication_2('q1 q2 q3 q4 l1 l2 l3', L2, tra3)\n",
    "L4 = matrix_multiplication_2('q1 q2 q3 q4 l1 l2 l3', A04, tra4)\n",
    "L5 = matrix_multiplication_2('q1 q2 q3 q4 l1 l2 l3', L3, tra5)\n",
    "L6_0 = matrix_multiplication_2('q1 q2 q3 q4 l1 l2 l3', L5, rot6)\n",
    "L6 = matrix_multiplication_2('q1 q2 q3 q4 l1 l2 l3', L6_0, tra6)\n",
    "L7 = matrix_multiplication_2('q1 q2 q3 q4 l1 l2 l3', L6, tra7)"
   ]
  },
  {
   "cell_type": "code",
   "execution_count": 19,
   "metadata": {},
   "outputs": [],
   "source": [
    "#function to find the partial derivative of a function ('function') to\n",
    "#the first variable in variables list ('v_str')\n",
    "\n",
    "def Deriv(v_str, function):\n",
    "    vars = sym.symbols(v_str)\n",
    "    f = (function)\n",
    "    #print (f)\n",
    "    J = sym.zeros(len(f))\n",
    "    for i, fi in enumerate(f):\n",
    "            J[i] = sym.diff(fi, vars[0])\n",
    "            \n",
    "    return J"
   ]
  },
  {
   "cell_type": "code",
   "execution_count": 21,
   "metadata": {},
   "outputs": [],
   "source": [
    "#The function is 'sqrt((x - a)**2 + (y - b)**2)' where x,y are the\n",
    "#coordinates of the critical point, and a,b are the coordinates of the obstacle\n",
    "\n",
    "#so this is the way we computed all ξs for the objective function\n",
    "#for example, for computing the ξs for critical point L10,\n",
    "#the procedure is the following"
   ]
  },
  {
   "cell_type": "code",
   "execution_count": 23,
   "metadata": {
    "collapsed": true
   },
   "outputs": [
    {
     "name": "stdout",
     "output_type": "stream",
     "text": [
      "l2*sin(q2)*cos(q1) + l3*(-sin(q1)*sin(q3) + cos(q1)*cos(q2)*cos(q3)) + 0.1152573*(-sin(q1)*sin(q3) + cos(q1)*cos(q2)*cos(q3))*sin(q4) + 0.0261627*(-sin(q1)*sin(q3) + cos(q1)*cos(q2)*cos(q3))*cos(q4) + 0.1062*sin(q1)*cos(q3) + 0.0261627*sin(q2)*sin(q4)*cos(q1) - 0.1152573*sin(q2)*cos(q1)*cos(q4) + 0.1062*sin(q3)*cos(q1)*cos(q2)\n",
      "\n",
      "\n",
      "l2*sin(q1)*sin(q2) + l3*(sin(q1)*cos(q2)*cos(q3) + sin(q3)*cos(q1)) + 0.1152573*(sin(q1)*cos(q2)*cos(q3) + sin(q3)*cos(q1))*sin(q4) + 0.0261627*(sin(q1)*cos(q2)*cos(q3) + sin(q3)*cos(q1))*cos(q4) + 0.0261627*sin(q1)*sin(q2)*sin(q4) - 0.1152573*sin(q1)*sin(q2)*cos(q4) + 0.1062*sin(q1)*sin(q3)*cos(q2) - 0.1062*cos(q1)*cos(q3)\n"
     ]
    }
   ],
   "source": [
    "print(L3[0,3]) #print Px of L3\n",
    "print(\"\\n\")\n",
    "print(L3[1,3]) #print Py of L3"
   ]
  },
  {
   "cell_type": "code",
   "execution_count": 24,
   "metadata": {
    "collapsed": true
   },
   "outputs": [
    {
     "name": "stdout",
     "output_type": "stream",
     "text": [
      "((-2*l2*sin(q1)*sin(q2) + 2*l3*(-sin(q1)*cos(q2)*cos(q3) - sin(q3)*cos(q1)) + 2*(-0.1152573*sin(q1)*cos(q2)*cos(q3) - 0.1152573*sin(q3)*cos(q1))*sin(q4) + 2*(-0.0261627*sin(q1)*cos(q2)*cos(q3) - 0.0261627*sin(q3)*cos(q1))*cos(q4) - 0.0523254*sin(q1)*sin(q2)*sin(q4) + 0.2305146*sin(q1)*sin(q2)*cos(q4) - 0.2124*sin(q1)*sin(q3)*cos(q2) + 0.2124*cos(q1)*cos(q3))*(-a1 + l2*sin(q2)*cos(q1) + l3*(-sin(q1)*sin(q3) + cos(q1)*cos(q2)*cos(q3)) + (-0.1152573*sin(q1)*sin(q3) + 0.1152573*cos(q1)*cos(q2)*cos(q3))*sin(q4) + (-0.0261627*sin(q1)*sin(q3) + 0.0261627*cos(q1)*cos(q2)*cos(q3))*cos(q4) + 0.1062*sin(q1)*cos(q3) + 0.0261627*sin(q2)*sin(q4)*cos(q1) - 0.1152573*sin(q2)*cos(q1)*cos(q4) + 0.1062*sin(q3)*cos(q1)*cos(q2))/2 + (2*l2*sin(q2)*cos(q1) + 2*l3*(-sin(q1)*sin(q3) + cos(q1)*cos(q2)*cos(q3)) + 2*(-0.1152573*sin(q1)*sin(q3) + 0.1152573*cos(q1)*cos(q2)*cos(q3))*sin(q4) + 2*(-0.0261627*sin(q1)*sin(q3) + 0.0261627*cos(q1)*cos(q2)*cos(q3))*cos(q4) + 0.2124*sin(q1)*cos(q3) + 0.0523254*sin(q2)*sin(q4)*cos(q1) - 0.2305146*sin(q2)*cos(q1)*cos(q4) + 0.2124*sin(q3)*cos(q1)*cos(q2))*(-b1 + l2*sin(q1)*sin(q2) + l3*(sin(q1)*cos(q2)*cos(q3) + sin(q3)*cos(q1)) + (0.0261627*sin(q1)*cos(q2)*cos(q3) + 0.0261627*sin(q3)*cos(q1))*cos(q4) + (0.1152573*sin(q1)*cos(q2)*cos(q3) + 0.1152573*sin(q3)*cos(q1))*sin(q4) + 0.0261627*sin(q1)*sin(q2)*sin(q4) - 0.1152573*sin(q1)*sin(q2)*cos(q4) + 0.1062*sin(q1)*sin(q3)*cos(q2) - 0.1062*cos(q1)*cos(q3))/2)/sqrt((-a1 + l2*sin(q2)*cos(q1) + l3*(-sin(q1)*sin(q3) + cos(q1)*cos(q2)*cos(q3)) + (-0.1152573*sin(q1)*sin(q3) + 0.1152573*cos(q1)*cos(q2)*cos(q3))*sin(q4) + (-0.0261627*sin(q1)*sin(q3) + 0.0261627*cos(q1)*cos(q2)*cos(q3))*cos(q4) + 0.1062*sin(q1)*cos(q3) + 0.0261627*sin(q2)*sin(q4)*cos(q1) - 0.1152573*sin(q2)*cos(q1)*cos(q4) + 0.1062*sin(q3)*cos(q1)*cos(q2))**2 + (-b1 + l2*sin(q1)*sin(q2) + l3*(sin(q1)*cos(q2)*cos(q3) + sin(q3)*cos(q1)) + (0.0261627*sin(q1)*cos(q2)*cos(q3) + 0.0261627*sin(q3)*cos(q1))*cos(q4) + (0.1152573*sin(q1)*cos(q2)*cos(q3) + 0.1152573*sin(q3)*cos(q1))*sin(q4) + 0.0261627*sin(q1)*sin(q2)*sin(q4) - 0.1152573*sin(q1)*sin(q2)*cos(q4) + 0.1062*sin(q1)*sin(q3)*cos(q2) - 0.1062*cos(q1)*cos(q3))**2)\n"
     ]
    }
   ],
   "source": [
    "#partial derivative to q1\n",
    "ksi1 = Deriv('q1 q2 q3 q4 l1 l2 l3 a1 b1', ['sqrt((l2*sin(q2)*cos(q1) + l3*(-sin(q1)*sin(q3) + cos(q1)*cos(q2)*cos(q3)) + 0.1152573*(-sin(q1)*sin(q3) + cos(q1)*cos(q2)*cos(q3))*sin(q4) + 0.0261627*(-sin(q1)*sin(q3) + cos(q1)*cos(q2)*cos(q3))*cos(q4) + 0.1062*sin(q1)*cos(q3) + 0.0261627*sin(q2)*sin(q4)*cos(q1) - 0.1152573*sin(q2)*cos(q1)*cos(q4) + 0.1062*sin(q3)*cos(q1)*cos(q2) - a1)**2 + (l2*sin(q1)*sin(q2) + l3*(sin(q1)*cos(q2)*cos(q3) + sin(q3)*cos(q1)) + 0.1152573*(sin(q1)*cos(q2)*cos(q3) + sin(q3)*cos(q1))*sin(q4) + 0.0261627*(sin(q1)*cos(q2)*cos(q3) + sin(q3)*cos(q1))*cos(q4) + 0.0261627*sin(q1)*sin(q2)*sin(q4) - 0.1152573*sin(q1)*sin(q2)*cos(q4) + 0.1062*sin(q1)*sin(q3)*cos(q2) - 0.1062*cos(q1)*cos(q3) - b1)**2)'])\n",
    "print(ksi1[0])"
   ]
  },
  {
   "cell_type": "code",
   "execution_count": 25,
   "metadata": {
    "collapsed": true
   },
   "outputs": [
    {
     "name": "stdout",
     "output_type": "stream",
     "text": [
      "((2*l2*sin(q1)*cos(q2) - 2*l3*sin(q1)*sin(q2)*cos(q3) - 0.2124*sin(q1)*sin(q2)*sin(q3) - 0.2305146*sin(q1)*sin(q2)*sin(q4)*cos(q3) - 0.0523254*sin(q1)*sin(q2)*cos(q3)*cos(q4) + 0.0523254*sin(q1)*sin(q4)*cos(q2) - 0.2305146*sin(q1)*cos(q2)*cos(q4))*(-b1 + l2*sin(q1)*sin(q2) + l3*(sin(q1)*cos(q2)*cos(q3) + sin(q3)*cos(q1)) + (0.0261627*sin(q1)*cos(q2)*cos(q3) + 0.0261627*sin(q3)*cos(q1))*cos(q4) + (0.1152573*sin(q1)*cos(q2)*cos(q3) + 0.1152573*sin(q3)*cos(q1))*sin(q4) + 0.0261627*sin(q1)*sin(q2)*sin(q4) - 0.1152573*sin(q1)*sin(q2)*cos(q4) + 0.1062*sin(q1)*sin(q3)*cos(q2) - 0.1062*cos(q1)*cos(q3))/2 + (2*l2*cos(q1)*cos(q2) - 2*l3*sin(q2)*cos(q1)*cos(q3) - 0.2124*sin(q2)*sin(q3)*cos(q1) - 0.2305146*sin(q2)*sin(q4)*cos(q1)*cos(q3) - 0.0523254*sin(q2)*cos(q1)*cos(q3)*cos(q4) + 0.0523254*sin(q4)*cos(q1)*cos(q2) - 0.2305146*cos(q1)*cos(q2)*cos(q4))*(-a1 + l2*sin(q2)*cos(q1) + l3*(-sin(q1)*sin(q3) + cos(q1)*cos(q2)*cos(q3)) + (-0.1152573*sin(q1)*sin(q3) + 0.1152573*cos(q1)*cos(q2)*cos(q3))*sin(q4) + (-0.0261627*sin(q1)*sin(q3) + 0.0261627*cos(q1)*cos(q2)*cos(q3))*cos(q4) + 0.1062*sin(q1)*cos(q3) + 0.0261627*sin(q2)*sin(q4)*cos(q1) - 0.1152573*sin(q2)*cos(q1)*cos(q4) + 0.1062*sin(q3)*cos(q1)*cos(q2))/2)/sqrt((-a1 + l2*sin(q2)*cos(q1) + l3*(-sin(q1)*sin(q3) + cos(q1)*cos(q2)*cos(q3)) + (-0.1152573*sin(q1)*sin(q3) + 0.1152573*cos(q1)*cos(q2)*cos(q3))*sin(q4) + (-0.0261627*sin(q1)*sin(q3) + 0.0261627*cos(q1)*cos(q2)*cos(q3))*cos(q4) + 0.1062*sin(q1)*cos(q3) + 0.0261627*sin(q2)*sin(q4)*cos(q1) - 0.1152573*sin(q2)*cos(q1)*cos(q4) + 0.1062*sin(q3)*cos(q1)*cos(q2))**2 + (-b1 + l2*sin(q1)*sin(q2) + l3*(sin(q1)*cos(q2)*cos(q3) + sin(q3)*cos(q1)) + (0.0261627*sin(q1)*cos(q2)*cos(q3) + 0.0261627*sin(q3)*cos(q1))*cos(q4) + (0.1152573*sin(q1)*cos(q2)*cos(q3) + 0.1152573*sin(q3)*cos(q1))*sin(q4) + 0.0261627*sin(q1)*sin(q2)*sin(q4) - 0.1152573*sin(q1)*sin(q2)*cos(q4) + 0.1062*sin(q1)*sin(q3)*cos(q2) - 0.1062*cos(q1)*cos(q3))**2)\n"
     ]
    }
   ],
   "source": [
    "#partial derivative to q2\n",
    "ksi2 = Deriv('q2 q1 q3 q4 l1 l2 l3 a1 b1', ['sqrt((l2*sin(q2)*cos(q1) + l3*(-sin(q1)*sin(q3) + cos(q1)*cos(q2)*cos(q3)) + 0.1152573*(-sin(q1)*sin(q3) + cos(q1)*cos(q2)*cos(q3))*sin(q4) + 0.0261627*(-sin(q1)*sin(q3) + cos(q1)*cos(q2)*cos(q3))*cos(q4) + 0.1062*sin(q1)*cos(q3) + 0.0261627*sin(q2)*sin(q4)*cos(q1) - 0.1152573*sin(q2)*cos(q1)*cos(q4) + 0.1062*sin(q3)*cos(q1)*cos(q2) - a1)**2 + (l2*sin(q1)*sin(q2) + l3*(sin(q1)*cos(q2)*cos(q3) + sin(q3)*cos(q1)) + 0.1152573*(sin(q1)*cos(q2)*cos(q3) + sin(q3)*cos(q1))*sin(q4) + 0.0261627*(sin(q1)*cos(q2)*cos(q3) + sin(q3)*cos(q1))*cos(q4) + 0.0261627*sin(q1)*sin(q2)*sin(q4) - 0.1152573*sin(q1)*sin(q2)*cos(q4) + 0.1062*sin(q1)*sin(q3)*cos(q2) - 0.1062*cos(q1)*cos(q3) - b1)**2)'])\n",
    "print(ksi2[0])"
   ]
  },
  {
   "cell_type": "code",
   "execution_count": 26,
   "metadata": {
    "collapsed": true
   },
   "outputs": [
    {
     "name": "stdout",
     "output_type": "stream",
     "text": [
      "((2*l3*(-sin(q1)*cos(q3) - sin(q3)*cos(q1)*cos(q2)) + 2*(-0.1152573*sin(q1)*cos(q3) - 0.1152573*sin(q3)*cos(q1)*cos(q2))*sin(q4) + 2*(-0.0261627*sin(q1)*cos(q3) - 0.0261627*sin(q3)*cos(q1)*cos(q2))*cos(q4) - 0.2124*sin(q1)*sin(q3) + 0.2124*cos(q1)*cos(q2)*cos(q3))*(-a1 + l2*sin(q2)*cos(q1) + l3*(-sin(q1)*sin(q3) + cos(q1)*cos(q2)*cos(q3)) + (-0.1152573*sin(q1)*sin(q3) + 0.1152573*cos(q1)*cos(q2)*cos(q3))*sin(q4) + (-0.0261627*sin(q1)*sin(q3) + 0.0261627*cos(q1)*cos(q2)*cos(q3))*cos(q4) + 0.1062*sin(q1)*cos(q3) + 0.0261627*sin(q2)*sin(q4)*cos(q1) - 0.1152573*sin(q2)*cos(q1)*cos(q4) + 0.1062*sin(q3)*cos(q1)*cos(q2))/2 + (2*l3*(-sin(q1)*sin(q3)*cos(q2) + cos(q1)*cos(q3)) + 2*(-0.1152573*sin(q1)*sin(q3)*cos(q2) + 0.1152573*cos(q1)*cos(q3))*sin(q4) + 2*(-0.0261627*sin(q1)*sin(q3)*cos(q2) + 0.0261627*cos(q1)*cos(q3))*cos(q4) + 0.2124*sin(q1)*cos(q2)*cos(q3) + 0.2124*sin(q3)*cos(q1))*(-b1 + l2*sin(q1)*sin(q2) + l3*(sin(q1)*cos(q2)*cos(q3) + sin(q3)*cos(q1)) + (0.0261627*sin(q1)*cos(q2)*cos(q3) + 0.0261627*sin(q3)*cos(q1))*cos(q4) + (0.1152573*sin(q1)*cos(q2)*cos(q3) + 0.1152573*sin(q3)*cos(q1))*sin(q4) + 0.0261627*sin(q1)*sin(q2)*sin(q4) - 0.1152573*sin(q1)*sin(q2)*cos(q4) + 0.1062*sin(q1)*sin(q3)*cos(q2) - 0.1062*cos(q1)*cos(q3))/2)/sqrt((-a1 + l2*sin(q2)*cos(q1) + l3*(-sin(q1)*sin(q3) + cos(q1)*cos(q2)*cos(q3)) + (-0.1152573*sin(q1)*sin(q3) + 0.1152573*cos(q1)*cos(q2)*cos(q3))*sin(q4) + (-0.0261627*sin(q1)*sin(q3) + 0.0261627*cos(q1)*cos(q2)*cos(q3))*cos(q4) + 0.1062*sin(q1)*cos(q3) + 0.0261627*sin(q2)*sin(q4)*cos(q1) - 0.1152573*sin(q2)*cos(q1)*cos(q4) + 0.1062*sin(q3)*cos(q1)*cos(q2))**2 + (-b1 + l2*sin(q1)*sin(q2) + l3*(sin(q1)*cos(q2)*cos(q3) + sin(q3)*cos(q1)) + (0.0261627*sin(q1)*cos(q2)*cos(q3) + 0.0261627*sin(q3)*cos(q1))*cos(q4) + (0.1152573*sin(q1)*cos(q2)*cos(q3) + 0.1152573*sin(q3)*cos(q1))*sin(q4) + 0.0261627*sin(q1)*sin(q2)*sin(q4) - 0.1152573*sin(q1)*sin(q2)*cos(q4) + 0.1062*sin(q1)*sin(q3)*cos(q2) - 0.1062*cos(q1)*cos(q3))**2)\n"
     ]
    }
   ],
   "source": [
    "#partial derivative to q3\n",
    "ksi3 = Deriv('q3 q2 q1 q4 l1 l2 l3 a1 b1', ['sqrt((l2*sin(q2)*cos(q1) + l3*(-sin(q1)*sin(q3) + cos(q1)*cos(q2)*cos(q3)) + 0.1152573*(-sin(q1)*sin(q3) + cos(q1)*cos(q2)*cos(q3))*sin(q4) + 0.0261627*(-sin(q1)*sin(q3) + cos(q1)*cos(q2)*cos(q3))*cos(q4) + 0.1062*sin(q1)*cos(q3) + 0.0261627*sin(q2)*sin(q4)*cos(q1) - 0.1152573*sin(q2)*cos(q1)*cos(q4) + 0.1062*sin(q3)*cos(q1)*cos(q2) - a1)**2 + (l2*sin(q1)*sin(q2) + l3*(sin(q1)*cos(q2)*cos(q3) + sin(q3)*cos(q1)) + 0.1152573*(sin(q1)*cos(q2)*cos(q3) + sin(q3)*cos(q1))*sin(q4) + 0.0261627*(sin(q1)*cos(q2)*cos(q3) + sin(q3)*cos(q1))*cos(q4) + 0.0261627*sin(q1)*sin(q2)*sin(q4) - 0.1152573*sin(q1)*sin(q2)*cos(q4) + 0.1062*sin(q1)*sin(q3)*cos(q2) - 0.1062*cos(q1)*cos(q3) - b1)**2)'])\n",
    "print(ksi3[0])"
   ]
  },
  {
   "cell_type": "code",
   "execution_count": 27,
   "metadata": {
    "collapsed": true
   },
   "outputs": [
    {
     "name": "stdout",
     "output_type": "stream",
     "text": [
      "((2*(-0.1152573*sin(q1)*sin(q3) + 0.1152573*cos(q1)*cos(q2)*cos(q3))*cos(q4) - 2*(-0.0261627*sin(q1)*sin(q3) + 0.0261627*cos(q1)*cos(q2)*cos(q3))*sin(q4) + 0.2305146*sin(q2)*sin(q4)*cos(q1) + 0.0523254*sin(q2)*cos(q1)*cos(q4))*(-a1 + l2*sin(q2)*cos(q1) + l3*(-sin(q1)*sin(q3) + cos(q1)*cos(q2)*cos(q3)) + (-0.1152573*sin(q1)*sin(q3) + 0.1152573*cos(q1)*cos(q2)*cos(q3))*sin(q4) + (-0.0261627*sin(q1)*sin(q3) + 0.0261627*cos(q1)*cos(q2)*cos(q3))*cos(q4) + 0.1062*sin(q1)*cos(q3) + 0.0261627*sin(q2)*sin(q4)*cos(q1) - 0.1152573*sin(q2)*cos(q1)*cos(q4) + 0.1062*sin(q3)*cos(q1)*cos(q2))/2 + (-2*(0.0261627*sin(q1)*cos(q2)*cos(q3) + 0.0261627*sin(q3)*cos(q1))*sin(q4) + 2*(0.1152573*sin(q1)*cos(q2)*cos(q3) + 0.1152573*sin(q3)*cos(q1))*cos(q4) + 0.2305146*sin(q1)*sin(q2)*sin(q4) + 0.0523254*sin(q1)*sin(q2)*cos(q4))*(-b1 + l2*sin(q1)*sin(q2) + l3*(sin(q1)*cos(q2)*cos(q3) + sin(q3)*cos(q1)) + (0.0261627*sin(q1)*cos(q2)*cos(q3) + 0.0261627*sin(q3)*cos(q1))*cos(q4) + (0.1152573*sin(q1)*cos(q2)*cos(q3) + 0.1152573*sin(q3)*cos(q1))*sin(q4) + 0.0261627*sin(q1)*sin(q2)*sin(q4) - 0.1152573*sin(q1)*sin(q2)*cos(q4) + 0.1062*sin(q1)*sin(q3)*cos(q2) - 0.1062*cos(q1)*cos(q3))/2)/sqrt((-a1 + l2*sin(q2)*cos(q1) + l3*(-sin(q1)*sin(q3) + cos(q1)*cos(q2)*cos(q3)) + (-0.1152573*sin(q1)*sin(q3) + 0.1152573*cos(q1)*cos(q2)*cos(q3))*sin(q4) + (-0.0261627*sin(q1)*sin(q3) + 0.0261627*cos(q1)*cos(q2)*cos(q3))*cos(q4) + 0.1062*sin(q1)*cos(q3) + 0.0261627*sin(q2)*sin(q4)*cos(q1) - 0.1152573*sin(q2)*cos(q1)*cos(q4) + 0.1062*sin(q3)*cos(q1)*cos(q2))**2 + (-b1 + l2*sin(q1)*sin(q2) + l3*(sin(q1)*cos(q2)*cos(q3) + sin(q3)*cos(q1)) + (0.0261627*sin(q1)*cos(q2)*cos(q3) + 0.0261627*sin(q3)*cos(q1))*cos(q4) + (0.1152573*sin(q1)*cos(q2)*cos(q3) + 0.1152573*sin(q3)*cos(q1))*sin(q4) + 0.0261627*sin(q1)*sin(q2)*sin(q4) - 0.1152573*sin(q1)*sin(q2)*cos(q4) + 0.1062*sin(q1)*sin(q3)*cos(q2) - 0.1062*cos(q1)*cos(q3))**2)\n"
     ]
    }
   ],
   "source": [
    "#partial derivative to q4\n",
    "ksi4 = Deriv('q4 q2 q3 q1 l1 l2 l3 a1 b1', ['sqrt((l2*sin(q2)*cos(q1) + l3*(-sin(q1)*sin(q3) + cos(q1)*cos(q2)*cos(q3)) + 0.1152573*(-sin(q1)*sin(q3) + cos(q1)*cos(q2)*cos(q3))*sin(q4) + 0.0261627*(-sin(q1)*sin(q3) + cos(q1)*cos(q2)*cos(q3))*cos(q4) + 0.1062*sin(q1)*cos(q3) + 0.0261627*sin(q2)*sin(q4)*cos(q1) - 0.1152573*sin(q2)*cos(q1)*cos(q4) + 0.1062*sin(q3)*cos(q1)*cos(q2) - a1)**2 + (l2*sin(q1)*sin(q2) + l3*(sin(q1)*cos(q2)*cos(q3) + sin(q3)*cos(q1)) + 0.1152573*(sin(q1)*cos(q2)*cos(q3) + sin(q3)*cos(q1))*sin(q4) + 0.0261627*(sin(q1)*cos(q2)*cos(q3) + sin(q3)*cos(q1))*cos(q4) + 0.0261627*sin(q1)*sin(q2)*sin(q4) - 0.1152573*sin(q1)*sin(q2)*cos(q4) + 0.1062*sin(q1)*sin(q3)*cos(q2) - 0.1062*cos(q1)*cos(q3) - b1)**2)'])\n",
    "print(ksi4[0])"
   ]
  },
  {
   "cell_type": "code",
   "execution_count": 28,
   "metadata": {},
   "outputs": [],
   "source": [
    "#obviously, there is no q5,q6 or q7 in any critical point's matrix, so\n",
    "#the partial derivatives for these variables are 0"
   ]
  }
 ],
 "metadata": {
  "kernelspec": {
   "display_name": "Python 3",
   "language": "python",
   "name": "python3"
  },
  "language_info": {
   "codemirror_mode": {
    "name": "ipython",
    "version": 3
   },
   "file_extension": ".py",
   "mimetype": "text/x-python",
   "name": "python",
   "nbconvert_exporter": "python",
   "pygments_lexer": "ipython3",
   "version": "3.7.4"
  }
 },
 "nbformat": 4,
 "nbformat_minor": 2
}
